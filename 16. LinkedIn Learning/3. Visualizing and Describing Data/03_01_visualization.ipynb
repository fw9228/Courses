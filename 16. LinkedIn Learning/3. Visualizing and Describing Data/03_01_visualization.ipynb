{
 "cells": [
  {
   "cell_type": "markdown",
   "metadata": {},
   "source": [
    "## Python statistics essential training - 03_01_visualization"
   ]
  },
  {
   "cell_type": "markdown",
   "metadata": {},
   "source": [
    "Standard imports"
   ]
  },
  {
   "cell_type": "code",
   "execution_count": 1,
   "metadata": {},
   "outputs": [],
   "source": [
    "import numpy as np\n",
    "import scipy.stats\n",
    "import pandas as pd"
   ]
  },
  {
   "cell_type": "code",
   "execution_count": 2,
   "metadata": {},
   "outputs": [],
   "source": [
    "import matplotlib\n",
    "import matplotlib.pyplot as plt\n",
    "\n",
    "from IPython import display\n",
    "from ipywidgets import interact, widgets\n",
    "\n",
    "%matplotlib inline"
   ]
  },
  {
   "cell_type": "code",
   "execution_count": 3,
   "metadata": {},
   "outputs": [],
   "source": [
    "import re\n",
    "import mailbox\n",
    "import csv"
   ]
  },
  {
   "cell_type": "markdown",
   "metadata": {},
   "source": [
    "**Load data**"
   ]
  },
  {
   "cell_type": "code",
   "execution_count": 4,
   "metadata": {},
   "outputs": [
    {
     "data": {
      "text/html": [
       "<div>\n",
       "<style scoped>\n",
       "    .dataframe tbody tr th:only-of-type {\n",
       "        vertical-align: middle;\n",
       "    }\n",
       "\n",
       "    .dataframe tbody tr th {\n",
       "        vertical-align: top;\n",
       "    }\n",
       "\n",
       "    .dataframe thead th {\n",
       "        text-align: right;\n",
       "    }\n",
       "</style>\n",
       "<table border=\"1\" class=\"dataframe\">\n",
       "  <thead>\n",
       "    <tr style=\"text-align: right;\">\n",
       "      <th></th>\n",
       "      <th>country</th>\n",
       "      <th>year</th>\n",
       "      <th>region</th>\n",
       "      <th>population</th>\n",
       "      <th>life_expectancy</th>\n",
       "      <th>age5_surviving</th>\n",
       "      <th>babies_per_woman</th>\n",
       "      <th>gdp_per_capita</th>\n",
       "      <th>gdp_per_day</th>\n",
       "    </tr>\n",
       "  </thead>\n",
       "  <tbody>\n",
       "    <tr>\n",
       "      <th>0</th>\n",
       "      <td>Afghanistan</td>\n",
       "      <td>1800</td>\n",
       "      <td>Asia</td>\n",
       "      <td>3280000.0</td>\n",
       "      <td>28.21</td>\n",
       "      <td>53.142</td>\n",
       "      <td>7.00</td>\n",
       "      <td>603.0</td>\n",
       "      <td>1.650924</td>\n",
       "    </tr>\n",
       "    <tr>\n",
       "      <th>1</th>\n",
       "      <td>Afghanistan</td>\n",
       "      <td>1810</td>\n",
       "      <td>Asia</td>\n",
       "      <td>3280000.0</td>\n",
       "      <td>28.11</td>\n",
       "      <td>53.002</td>\n",
       "      <td>7.00</td>\n",
       "      <td>604.0</td>\n",
       "      <td>1.653662</td>\n",
       "    </tr>\n",
       "    <tr>\n",
       "      <th>2</th>\n",
       "      <td>Afghanistan</td>\n",
       "      <td>1820</td>\n",
       "      <td>Asia</td>\n",
       "      <td>3323519.0</td>\n",
       "      <td>28.01</td>\n",
       "      <td>52.862</td>\n",
       "      <td>7.00</td>\n",
       "      <td>604.0</td>\n",
       "      <td>1.653662</td>\n",
       "    </tr>\n",
       "    <tr>\n",
       "      <th>3</th>\n",
       "      <td>Afghanistan</td>\n",
       "      <td>1830</td>\n",
       "      <td>Asia</td>\n",
       "      <td>3448982.0</td>\n",
       "      <td>27.90</td>\n",
       "      <td>52.719</td>\n",
       "      <td>7.00</td>\n",
       "      <td>625.0</td>\n",
       "      <td>1.711157</td>\n",
       "    </tr>\n",
       "    <tr>\n",
       "      <th>4</th>\n",
       "      <td>Afghanistan</td>\n",
       "      <td>1840</td>\n",
       "      <td>Asia</td>\n",
       "      <td>3625022.0</td>\n",
       "      <td>27.80</td>\n",
       "      <td>52.576</td>\n",
       "      <td>7.00</td>\n",
       "      <td>647.0</td>\n",
       "      <td>1.771389</td>\n",
       "    </tr>\n",
       "    <tr>\n",
       "      <th>...</th>\n",
       "      <td>...</td>\n",
       "      <td>...</td>\n",
       "      <td>...</td>\n",
       "      <td>...</td>\n",
       "      <td>...</td>\n",
       "      <td>...</td>\n",
       "      <td>...</td>\n",
       "      <td>...</td>\n",
       "      <td>...</td>\n",
       "    </tr>\n",
       "    <tr>\n",
       "      <th>14735</th>\n",
       "      <td>Zimbabwe</td>\n",
       "      <td>2011</td>\n",
       "      <td>Africa</td>\n",
       "      <td>14255592.0</td>\n",
       "      <td>51.60</td>\n",
       "      <td>90.800</td>\n",
       "      <td>3.64</td>\n",
       "      <td>1626.0</td>\n",
       "      <td>4.451745</td>\n",
       "    </tr>\n",
       "    <tr>\n",
       "      <th>14736</th>\n",
       "      <td>Zimbabwe</td>\n",
       "      <td>2012</td>\n",
       "      <td>Africa</td>\n",
       "      <td>14565482.0</td>\n",
       "      <td>54.20</td>\n",
       "      <td>91.330</td>\n",
       "      <td>3.56</td>\n",
       "      <td>1750.0</td>\n",
       "      <td>4.791239</td>\n",
       "    </tr>\n",
       "    <tr>\n",
       "      <th>14737</th>\n",
       "      <td>Zimbabwe</td>\n",
       "      <td>2013</td>\n",
       "      <td>Africa</td>\n",
       "      <td>14898092.0</td>\n",
       "      <td>55.70</td>\n",
       "      <td>91.670</td>\n",
       "      <td>3.49</td>\n",
       "      <td>1773.0</td>\n",
       "      <td>4.854209</td>\n",
       "    </tr>\n",
       "    <tr>\n",
       "      <th>14738</th>\n",
       "      <td>Zimbabwe</td>\n",
       "      <td>2014</td>\n",
       "      <td>Africa</td>\n",
       "      <td>15245855.0</td>\n",
       "      <td>57.00</td>\n",
       "      <td>91.900</td>\n",
       "      <td>3.41</td>\n",
       "      <td>1773.0</td>\n",
       "      <td>4.854209</td>\n",
       "    </tr>\n",
       "    <tr>\n",
       "      <th>14739</th>\n",
       "      <td>Zimbabwe</td>\n",
       "      <td>2015</td>\n",
       "      <td>Africa</td>\n",
       "      <td>15602751.0</td>\n",
       "      <td>59.30</td>\n",
       "      <td>92.040</td>\n",
       "      <td>3.35</td>\n",
       "      <td>1801.0</td>\n",
       "      <td>4.930869</td>\n",
       "    </tr>\n",
       "  </tbody>\n",
       "</table>\n",
       "<p>14740 rows × 9 columns</p>\n",
       "</div>"
      ],
      "text/plain": [
       "           country  year  region  population  life_expectancy  age5_surviving  \\\n",
       "0      Afghanistan  1800    Asia   3280000.0            28.21          53.142   \n",
       "1      Afghanistan  1810    Asia   3280000.0            28.11          53.002   \n",
       "2      Afghanistan  1820    Asia   3323519.0            28.01          52.862   \n",
       "3      Afghanistan  1830    Asia   3448982.0            27.90          52.719   \n",
       "4      Afghanistan  1840    Asia   3625022.0            27.80          52.576   \n",
       "...            ...   ...     ...         ...              ...             ...   \n",
       "14735     Zimbabwe  2011  Africa  14255592.0            51.60          90.800   \n",
       "14736     Zimbabwe  2012  Africa  14565482.0            54.20          91.330   \n",
       "14737     Zimbabwe  2013  Africa  14898092.0            55.70          91.670   \n",
       "14738     Zimbabwe  2014  Africa  15245855.0            57.00          91.900   \n",
       "14739     Zimbabwe  2015  Africa  15602751.0            59.30          92.040   \n",
       "\n",
       "       babies_per_woman  gdp_per_capita  gdp_per_day  \n",
       "0                  7.00           603.0     1.650924  \n",
       "1                  7.00           604.0     1.653662  \n",
       "2                  7.00           604.0     1.653662  \n",
       "3                  7.00           625.0     1.711157  \n",
       "4                  7.00           647.0     1.771389  \n",
       "...                 ...             ...          ...  \n",
       "14735              3.64          1626.0     4.451745  \n",
       "14736              3.56          1750.0     4.791239  \n",
       "14737              3.49          1773.0     4.854209  \n",
       "14738              3.41          1773.0     4.854209  \n",
       "14739              3.35          1801.0     4.930869  \n",
       "\n",
       "[14740 rows x 9 columns]"
      ]
     },
     "execution_count": 4,
     "metadata": {},
     "output_type": "execute_result"
    }
   ],
   "source": [
    "filename= r'F:\\Data Analysis\\Springboard\\Data Science Career Track\\16. LinkedIn Learning\\Exercise Files\\chapter3\\03_01\\gapminder.csv'\n",
    "\n",
    "gapminder = pd.read_csv(filename)\n",
    "\n",
    "gapminder"
   ]
  },
  {
   "cell_type": "code",
   "execution_count": 5,
   "metadata": {},
   "outputs": [
    {
     "name": "stdout",
     "output_type": "stream",
     "text": [
      "<class 'pandas.core.frame.DataFrame'>\n",
      "RangeIndex: 14740 entries, 0 to 14739\n",
      "Data columns (total 9 columns):\n",
      " #   Column            Non-Null Count  Dtype  \n",
      "---  ------            --------------  -----  \n",
      " 0   country           14740 non-null  object \n",
      " 1   year              14740 non-null  int64  \n",
      " 2   region            14740 non-null  object \n",
      " 3   population        14740 non-null  float64\n",
      " 4   life_expectancy   14740 non-null  float64\n",
      " 5   age5_surviving    14740 non-null  float64\n",
      " 6   babies_per_woman  14740 non-null  float64\n",
      " 7   gdp_per_capita    14740 non-null  float64\n",
      " 8   gdp_per_day       14740 non-null  float64\n",
      "dtypes: float64(6), int64(1), object(2)\n",
      "memory usage: 1.0+ MB\n"
     ]
    }
   ],
   "source": [
    "gapminder.info()"
   ]
  },
  {
   "cell_type": "code",
   "execution_count": 6,
   "metadata": {},
   "outputs": [
    {
     "data": {
      "text/plain": [
       "country              object\n",
       "year                  int64\n",
       "region               object\n",
       "population          float64\n",
       "life_expectancy     float64\n",
       "age5_surviving      float64\n",
       "babies_per_woman    float64\n",
       "gdp_per_capita      float64\n",
       "gdp_per_day         float64\n",
       "dtype: object"
      ]
     },
     "execution_count": 6,
     "metadata": {},
     "output_type": "execute_result"
    }
   ],
   "source": [
    "gapminder.dtypes"
   ]
  },
  {
   "cell_type": "code",
   "execution_count": 7,
   "metadata": {},
   "outputs": [
    {
     "data": {
      "text/plain": [
       "Index(['country', 'year', 'region', 'population', 'life_expectancy',\n",
       "       'age5_surviving', 'babies_per_woman', 'gdp_per_capita', 'gdp_per_day'],\n",
       "      dtype='object')"
      ]
     },
     "execution_count": 7,
     "metadata": {},
     "output_type": "execute_result"
    }
   ],
   "source": [
    "gapminder.columns"
   ]
  },
  {
   "cell_type": "code",
   "execution_count": 8,
   "metadata": {},
   "outputs": [
    {
     "data": {
      "text/html": [
       "<div>\n",
       "<style scoped>\n",
       "    .dataframe tbody tr th:only-of-type {\n",
       "        vertical-align: middle;\n",
       "    }\n",
       "\n",
       "    .dataframe tbody tr th {\n",
       "        vertical-align: top;\n",
       "    }\n",
       "\n",
       "    .dataframe thead th {\n",
       "        text-align: right;\n",
       "    }\n",
       "</style>\n",
       "<table border=\"1\" class=\"dataframe\">\n",
       "  <thead>\n",
       "    <tr style=\"text-align: right;\">\n",
       "      <th></th>\n",
       "      <th>country</th>\n",
       "      <th>year</th>\n",
       "      <th>region</th>\n",
       "      <th>population</th>\n",
       "      <th>life_expectancy</th>\n",
       "      <th>age5_surviving</th>\n",
       "      <th>babies_per_woman</th>\n",
       "      <th>gdp_per_capita</th>\n",
       "      <th>gdp_per_day</th>\n",
       "    </tr>\n",
       "  </thead>\n",
       "  <tbody>\n",
       "    <tr>\n",
       "      <th>0</th>\n",
       "      <td>Afghanistan</td>\n",
       "      <td>1800</td>\n",
       "      <td>Asia</td>\n",
       "      <td>3280000.0</td>\n",
       "      <td>28.21</td>\n",
       "      <td>53.142</td>\n",
       "      <td>7.00</td>\n",
       "      <td>603.0</td>\n",
       "      <td>1.650924</td>\n",
       "    </tr>\n",
       "    <tr>\n",
       "      <th>20</th>\n",
       "      <td>Afghanistan</td>\n",
       "      <td>1955</td>\n",
       "      <td>Asia</td>\n",
       "      <td>8270024.0</td>\n",
       "      <td>29.27</td>\n",
       "      <td>60.193</td>\n",
       "      <td>7.67</td>\n",
       "      <td>1125.0</td>\n",
       "      <td>3.080082</td>\n",
       "    </tr>\n",
       "    <tr>\n",
       "      <th>40</th>\n",
       "      <td>Afghanistan</td>\n",
       "      <td>1975</td>\n",
       "      <td>Asia</td>\n",
       "      <td>12582954.0</td>\n",
       "      <td>39.61</td>\n",
       "      <td>72.060</td>\n",
       "      <td>7.67</td>\n",
       "      <td>1201.0</td>\n",
       "      <td>3.288159</td>\n",
       "    </tr>\n",
       "    <tr>\n",
       "      <th>60</th>\n",
       "      <td>Afghanistan</td>\n",
       "      <td>1995</td>\n",
       "      <td>Asia</td>\n",
       "      <td>16772522.0</td>\n",
       "      <td>49.40</td>\n",
       "      <td>84.770</td>\n",
       "      <td>7.83</td>\n",
       "      <td>872.0</td>\n",
       "      <td>2.387406</td>\n",
       "    </tr>\n",
       "    <tr>\n",
       "      <th>80</th>\n",
       "      <td>Afghanistan</td>\n",
       "      <td>2015</td>\n",
       "      <td>Asia</td>\n",
       "      <td>32526562.0</td>\n",
       "      <td>53.80</td>\n",
       "      <td>90.890</td>\n",
       "      <td>4.47</td>\n",
       "      <td>1925.0</td>\n",
       "      <td>5.270363</td>\n",
       "    </tr>\n",
       "    <tr>\n",
       "      <th>100</th>\n",
       "      <td>Albania</td>\n",
       "      <td>1954</td>\n",
       "      <td>Europe</td>\n",
       "      <td>1382881.0</td>\n",
       "      <td>56.59</td>\n",
       "      <td>84.829</td>\n",
       "      <td>6.31</td>\n",
       "      <td>2108.0</td>\n",
       "      <td>5.771389</td>\n",
       "    </tr>\n",
       "    <tr>\n",
       "      <th>120</th>\n",
       "      <td>Albania</td>\n",
       "      <td>1974</td>\n",
       "      <td>Europe</td>\n",
       "      <td>2358467.0</td>\n",
       "      <td>69.35</td>\n",
       "      <td>90.082</td>\n",
       "      <td>4.54</td>\n",
       "      <td>4177.0</td>\n",
       "      <td>11.436003</td>\n",
       "    </tr>\n",
       "    <tr>\n",
       "      <th>140</th>\n",
       "      <td>Albania</td>\n",
       "      <td>1994</td>\n",
       "      <td>Europe</td>\n",
       "      <td>3140634.0</td>\n",
       "      <td>73.60</td>\n",
       "      <td>96.540</td>\n",
       "      <td>2.77</td>\n",
       "      <td>3457.0</td>\n",
       "      <td>9.464750</td>\n",
       "    </tr>\n",
       "    <tr>\n",
       "      <th>160</th>\n",
       "      <td>Albania</td>\n",
       "      <td>2014</td>\n",
       "      <td>Europe</td>\n",
       "      <td>2889676.0</td>\n",
       "      <td>77.90</td>\n",
       "      <td>98.560</td>\n",
       "      <td>1.78</td>\n",
       "      <td>10160.0</td>\n",
       "      <td>27.816564</td>\n",
       "    </tr>\n",
       "    <tr>\n",
       "      <th>180</th>\n",
       "      <td>Algeria</td>\n",
       "      <td>1953</td>\n",
       "      <td>Africa</td>\n",
       "      <td>9405445.0</td>\n",
       "      <td>43.96</td>\n",
       "      <td>73.758</td>\n",
       "      <td>7.65</td>\n",
       "      <td>4077.0</td>\n",
       "      <td>11.162218</td>\n",
       "    </tr>\n",
       "    <tr>\n",
       "      <th>200</th>\n",
       "      <td>Algeria</td>\n",
       "      <td>1973</td>\n",
       "      <td>Africa</td>\n",
       "      <td>15804428.0</td>\n",
       "      <td>53.91</td>\n",
       "      <td>77.660</td>\n",
       "      <td>7.55</td>\n",
       "      <td>7581.0</td>\n",
       "      <td>20.755647</td>\n",
       "    </tr>\n",
       "  </tbody>\n",
       "</table>\n",
       "</div>"
      ],
      "text/plain": [
       "         country  year  region  population  life_expectancy  age5_surviving  \\\n",
       "0    Afghanistan  1800    Asia   3280000.0            28.21          53.142   \n",
       "20   Afghanistan  1955    Asia   8270024.0            29.27          60.193   \n",
       "40   Afghanistan  1975    Asia  12582954.0            39.61          72.060   \n",
       "60   Afghanistan  1995    Asia  16772522.0            49.40          84.770   \n",
       "80   Afghanistan  2015    Asia  32526562.0            53.80          90.890   \n",
       "100      Albania  1954  Europe   1382881.0            56.59          84.829   \n",
       "120      Albania  1974  Europe   2358467.0            69.35          90.082   \n",
       "140      Albania  1994  Europe   3140634.0            73.60          96.540   \n",
       "160      Albania  2014  Europe   2889676.0            77.90          98.560   \n",
       "180      Algeria  1953  Africa   9405445.0            43.96          73.758   \n",
       "200      Algeria  1973  Africa  15804428.0            53.91          77.660   \n",
       "\n",
       "     babies_per_woman  gdp_per_capita  gdp_per_day  \n",
       "0                7.00           603.0     1.650924  \n",
       "20               7.67          1125.0     3.080082  \n",
       "40               7.67          1201.0     3.288159  \n",
       "60               7.83           872.0     2.387406  \n",
       "80               4.47          1925.0     5.270363  \n",
       "100              6.31          2108.0     5.771389  \n",
       "120              4.54          4177.0    11.436003  \n",
       "140              2.77          3457.0     9.464750  \n",
       "160              1.78         10160.0    27.816564  \n",
       "180              7.65          4077.0    11.162218  \n",
       "200              7.55          7581.0    20.755647  "
      ]
     },
     "execution_count": 8,
     "metadata": {},
     "output_type": "execute_result"
    }
   ],
   "source": [
    "#Selecting the 20th values in the rows\n",
    "gapminder.loc[0:200:20]"
   ]
  },
  {
   "cell_type": "code",
   "execution_count": 9,
   "metadata": {},
   "outputs": [
    {
     "data": {
      "text/plain": [
       "<matplotlib.axes._subplots.AxesSubplot at 0x1a48c4e6148>"
      ]
     },
     "execution_count": 9,
     "metadata": {},
     "output_type": "execute_result"
    },
    {
     "data": {
      "image/png": "[encoded data removed]",
      "text/plain": [
       "<Figure size 432x288 with 1 Axes>"
      ]
     },
     "metadata": {
      "needs_background": "light"
     },
     "output_type": "display_data"
    }
   ],
   "source": [
    "#Scatter diagram for year 1965\n",
    "gapminder[gapminder.year == 1965].plot.scatter('babies_per_woman','age5_surviving')"
   ]
  },
  {
   "cell_type": "code",
   "execution_count": 11,
   "metadata": {},
   "outputs": [
    {
     "name": "stdout",
     "output_type": "stream",
     "text": [
      "Requirement already satisfied: ipywidgets in c:\\users\\13134\\anaconda3\\lib\\site-packages (7.5.1)\n",
      "Requirement already satisfied: ipython>=4.0.0; python_version >= \"3.3\" in c:\\users\\13134\\anaconda3\\lib\\site-packages (from ipywidgets) (7.12.0)\n",
      "Requirement already satisfied: widgetsnbextension~=3.5.0 in c:\\users\\13134\\anaconda3\\lib\\site-packages (from ipywidgets) (3.5.1)\n",
      "Requirement already satisfied: ipykernel>=4.5.1 in c:\\users\\13134\\anaconda3\\lib\\site-packages (from ipywidgets) (5.1.4)\n",
      "Requirement already satisfied: nbformat>=4.2.0 in c:\\users\\13134\\anaconda3\\lib\\site-packages (from ipywidgets) (5.0.4)\n",
      "Requirement already satisfied: traitlets>=4.3.1 in c:\\users\\13134\\anaconda3\\lib\\site-packages (from ipywidgets) (4.3.3)\n",
      "Requirement already satisfied: pygments in c:\\users\\13134\\anaconda3\\lib\\site-packages (from ipython>=4.0.0; python_version >= \"3.3\"->ipywidgets) (2.5.2)\n",
      "Requirement already satisfied: colorama; sys_platform == \"win32\" in c:\\users\\13134\\anaconda3\\lib\\site-packages (from ipython>=4.0.0; python_version >= \"3.3\"->ipywidgets) (0.4.3)\n",
      "Requirement already satisfied: jedi>=0.10 in c:\\users\\13134\\anaconda3\\lib\\site-packages (from ipython>=4.0.0; python_version >= \"3.3\"->ipywidgets) (0.14.1)\n",
      "Requirement already satisfied: setuptools>=18.5 in c:\\users\\13134\\anaconda3\\lib\\site-packages (from ipython>=4.0.0; python_version >= \"3.3\"->ipywidgets) (45.2.0.post20200210)\n",
      "Requirement already satisfied: decorator in c:\\users\\13134\\anaconda3\\lib\\site-packages (from ipython>=4.0.0; python_version >= \"3.3\"->ipywidgets) (4.4.1)\n",
      "Requirement already satisfied: backcall in c:\\users\\13134\\anaconda3\\lib\\site-packages (from ipython>=4.0.0; python_version >= \"3.3\"->ipywidgets) (0.1.0)\n",
      "Requirement already satisfied: pickleshare in c:\\users\\13134\\anaconda3\\lib\\site-packages (from ipython>=4.0.0; python_version >= \"3.3\"->ipywidgets) (0.7.5)\n",
      "Requirement already satisfied: prompt-toolkit!=3.0.0,!=3.0.1,<3.1.0,>=2.0.0 in c:\\users\\13134\\anaconda3\\lib\\site-packages (from ipython>=4.0.0; python_version >= \"3.3\"->ipywidgets) (3.0.3)\n",
      "Requirement already satisfied: notebook>=4.4.1 in c:\\users\\13134\\anaconda3\\lib\\site-packages (from widgetsnbextension~=3.5.0->ipywidgets) (6.0.3)\n",
      "Requirement already satisfied: jupyter-client in c:\\users\\13134\\anaconda3\\lib\\site-packages (from ipykernel>=4.5.1->ipywidgets) (5.3.4)\n",
      "Requirement already satisfied: tornado>=4.2 in c:\\users\\13134\\anaconda3\\lib\\site-packages (from ipykernel>=4.5.1->ipywidgets) (6.0.3)\n",
      "Requirement already satisfied: ipython-genutils in c:\\users\\13134\\anaconda3\\lib\\site-packages (from nbformat>=4.2.0->ipywidgets) (0.2.0)\n",
      "Requirement already satisfied: jupyter-core in c:\\users\\13134\\anaconda3\\lib\\site-packages (from nbformat>=4.2.0->ipywidgets) (4.6.1)\n",
      "Requirement already satisfied: jsonschema!=2.5.0,>=2.4 in c:\\users\\13134\\anaconda3\\lib\\site-packages (from nbformat>=4.2.0->ipywidgets) (3.2.0)\n",
      "Requirement already satisfied: six in c:\\users\\13134\\anaconda3\\lib\\site-packages (from traitlets>=4.3.1->ipywidgets) (1.14.0)\n",
      "Requirement already satisfied: parso>=0.5.0 in c:\\users\\13134\\anaconda3\\lib\\site-packages (from jedi>=0.10->ipython>=4.0.0; python_version >= \"3.3\"->ipywidgets) (0.5.2)\n",
      "Requirement already satisfied: wcwidth in c:\\users\\13134\\anaconda3\\lib\\site-packages (from prompt-toolkit!=3.0.0,!=3.0.1,<3.1.0,>=2.0.0->ipython>=4.0.0; python_version >= \"3.3\"->ipywidgets) (0.1.8)\n",
      "Requirement already satisfied: terminado>=0.8.1 in c:\\users\\13134\\anaconda3\\lib\\site-packages (from notebook>=4.4.1->widgetsnbextension~=3.5.0->ipywidgets) (0.8.3)\n",
      "Requirement already satisfied: nbconvert in c:\\users\\13134\\anaconda3\\lib\\site-packages (from notebook>=4.4.1->widgetsnbextension~=3.5.0->ipywidgets) (5.6.1)\n",
      "Requirement already satisfied: Send2Trash in c:\\users\\13134\\anaconda3\\lib\\site-packages (from notebook>=4.4.1->widgetsnbextension~=3.5.0->ipywidgets) (1.5.0)\n",
      "Requirement already satisfied: jinja2 in c:\\users\\13134\\anaconda3\\lib\\site-packages (from notebook>=4.4.1->widgetsnbextension~=3.5.0->ipywidgets) (2.11.1)\n",
      "Requirement already satisfied: pyzmq>=17 in c:\\users\\13134\\anaconda3\\lib\\site-packages (from notebook>=4.4.1->widgetsnbextension~=3.5.0->ipywidgets) (18.1.1)\n",
      "Requirement already satisfied: prometheus-client in c:\\users\\13134\\anaconda3\\lib\\site-packages (from notebook>=4.4.1->widgetsnbextension~=3.5.0->ipywidgets) (0.7.1)\n",
      "Requirement already satisfied: pywin32>=1.0; sys_platform == \"win32\" in c:\\users\\13134\\anaconda3\\lib\\site-packages (from jupyter-client->ipykernel>=4.5.1->ipywidgets) (227)\n",
      "Requirement already satisfied: python-dateutil>=2.1 in c:\\users\\13134\\anaconda3\\lib\\site-packages (from jupyter-client->ipykernel>=4.5.1->ipywidgets) (2.8.1)\n",
      "Requirement already satisfied: pyrsistent>=0.14.0 in c:\\users\\13134\\anaconda3\\lib\\site-packages (from jsonschema!=2.5.0,>=2.4->nbformat>=4.2.0->ipywidgets) (0.15.7)\n",
      "Requirement already satisfied: attrs>=17.4.0 in c:\\users\\13134\\anaconda3\\lib\\site-packages (from jsonschema!=2.5.0,>=2.4->nbformat>=4.2.0->ipywidgets) (19.3.0)\n",
      "Requirement already satisfied: importlib-metadata; python_version < \"3.8\" in c:\\users\\13134\\anaconda3\\lib\\site-packages (from jsonschema!=2.5.0,>=2.4->nbformat>=4.2.0->ipywidgets) (1.5.0)\n",
      "Requirement already satisfied: defusedxml in c:\\users\\13134\\anaconda3\\lib\\site-packages (from nbconvert->notebook>=4.4.1->widgetsnbextension~=3.5.0->ipywidgets) (0.6.0)\n",
      "Requirement already satisfied: entrypoints>=0.2.2 in c:\\users\\13134\\anaconda3\\lib\\site-packages (from nbconvert->notebook>=4.4.1->widgetsnbextension~=3.5.0->ipywidgets) (0.3)\n",
      "Requirement already satisfied: testpath in c:\\users\\13134\\anaconda3\\lib\\site-packages (from nbconvert->notebook>=4.4.1->widgetsnbextension~=3.5.0->ipywidgets) (0.4.4)\n",
      "Requirement already satisfied: mistune<2,>=0.8.1 in c:\\users\\13134\\anaconda3\\lib\\site-packages (from nbconvert->notebook>=4.4.1->widgetsnbextension~=3.5.0->ipywidgets) (0.8.4)\n",
      "Requirement already satisfied: bleach in c:\\users\\13134\\anaconda3\\lib\\site-packages (from nbconvert->notebook>=4.4.1->widgetsnbextension~=3.5.0->ipywidgets) (3.1.0)\n",
      "Requirement already satisfied: pandocfilters>=1.4.1 in c:\\users\\13134\\anaconda3\\lib\\site-packages (from nbconvert->notebook>=4.4.1->widgetsnbextension~=3.5.0->ipywidgets) (1.4.2)\n",
      "Requirement already satisfied: MarkupSafe>=0.23 in c:\\users\\13134\\anaconda3\\lib\\site-packages (from jinja2->notebook>=4.4.1->widgetsnbextension~=3.5.0->ipywidgets) (1.1.1)\n",
      "Requirement already satisfied: zipp>=0.5 in c:\\users\\13134\\anaconda3\\lib\\site-packages (from importlib-metadata; python_version < \"3.8\"->jsonschema!=2.5.0,>=2.4->nbformat>=4.2.0->ipywidgets) (2.2.0)\n",
      "Requirement already satisfied: webencodings in c:\\users\\13134\\anaconda3\\lib\\site-packages (from bleach->nbconvert->notebook>=4.4.1->widgetsnbextension~=3.5.0->ipywidgets) (0.5.1)\n"
     ]
    }
   ],
   "source": [
    "#Installing widgets\n",
    "!pip install ipywidgets"
   ]
  },
  {
   "cell_type": "code",
   "execution_count": 12,
   "metadata": {},
   "outputs": [],
   "source": [
    "#Interactive plot\n",
    "\n",
    "def plotyear(year):\n",
    "    data = gapminder[gapminder.year == year]\n",
    "    area = 5e-6 * data.population\n",
    "    colors = data.region.map({'Africa': 'skyblue', 'Europe': 'gold', 'America': 'palegreen', 'Asia': 'coral'})\n",
    "    \n",
    "    data.plot.scatter('babies_per_woman','age5_surviving',\n",
    "                      s=area,c=colors,\n",
    "                      linewidths=1,edgecolors='k',\n",
    "                      figsize=(12,9))\n",
    "    \n",
    "    plt.axis(ymin=50,ymax=105,xmin=0,xmax=8)\n",
    "    plt.xlabel('babies per woman')\n",
    "    plt.ylabel('% children alive at 5')"
   ]
  },
  {
   "cell_type": "code",
   "execution_count": 13,
   "metadata": {},
   "outputs": [
    {
     "data": {
      "application/vnd.jupyter.widget-view+json": {
       "model_id": "a51b79c892b7442a8b4b67533d6e6b1e",
       "version_major": 2,
       "version_minor": 0
      },
      "text/plain": [
       "interactive(children=(IntSlider(value=1965, description='year', max=2015, min=1950), Output()), _dom_classes=(…"
      ]
     },
     "metadata": {},
     "output_type": "display_data"
    },
    {
     "data": {
      "text/plain": [
       "<function __main__.plotyear(year)>"
      ]
     },
     "execution_count": 13,
     "metadata": {},
     "output_type": "execute_result"
    }
   ],
   "source": [
    "interact(plotyear,year=widgets.IntSlider(min=1950,max=2015,step=1,value=1965))"
   ]
  },
  {
   "cell_type": "code",
   "execution_count": 14,
   "metadata": {},
   "outputs": [
    {
     "data": {
      "image/png": "[encoded data removed]",
      "text/plain": [
       "<Figure size 864x648 with 1 Axes>"
      ]
     },
     "metadata": {
      "needs_background": "light"
     },
     "output_type": "display_data"
    }
   ],
   "source": [
    "#Plotting for each year separately\n",
    "plotyear(1965)"
   ]
  },
  {
   "cell_type": "code",
   "execution_count": null,
   "metadata": {},
   "outputs": [],
   "source": []
  }
 ],
 "metadata": {
  "kernelspec": {
   "display_name": "Python 3",
   "language": "python",
   "name": "python3"
  },
  "language_info": {
   "codemirror_mode": {
    "name": "ipython",
    "version": 3
   },
   "file_extension": ".py",
   "mimetype": "text/x-python",
   "name": "python",
   "nbconvert_exporter": "python",
   "pygments_lexer": "ipython3",
   "version": "3.7.6"
  },
  "toc": {
   "base_numbering": 1,
   "nav_menu": {},
   "number_sections": true,
   "sideBar": true,
   "skip_h1_title": false,
   "title_cell": "Table of Contents",
   "title_sidebar": "Contents",
   "toc_cell": false,
   "toc_position": {},
   "toc_section_display": true,
   "toc_window_display": false
  }
 },
 "nbformat": 4,
 "nbformat_minor": 2
}
