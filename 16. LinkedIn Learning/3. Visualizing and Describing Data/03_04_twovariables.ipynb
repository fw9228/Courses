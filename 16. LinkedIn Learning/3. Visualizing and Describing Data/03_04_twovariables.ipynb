{
 "cells": [
  {
   "cell_type": "markdown",
   "metadata": {},
   "source": [
    "## Python statistics essential training - 03_04_twovariables"
   ]
  },
  {
   "cell_type": "markdown",
   "metadata": {},
   "source": [
    "Standard imports"
   ]
  },
  {
   "cell_type": "code",
   "execution_count": 1,
   "metadata": {},
   "outputs": [],
   "source": [
    "import numpy as np\n",
    "import scipy.stats\n",
    "import pandas as pd"
   ]
  },
  {
   "cell_type": "code",
   "execution_count": 2,
   "metadata": {},
   "outputs": [],
   "source": [
    "import matplotlib\n",
    "import matplotlib.pyplot as plt\n",
    "\n",
    "from IPython import display\n",
    "from ipywidgets import interact, widgets\n",
    "\n",
    "%matplotlib inline"
   ]
  },
  {
   "cell_type": "code",
   "execution_count": 3,
   "metadata": {},
   "outputs": [],
   "source": [
    "import re\n",
    "import mailbox\n",
    "import csv"
   ]
  },
  {
   "cell_type": "markdown",
   "metadata": {},
   "source": [
    "**Load data**"
   ]
  },
  {
   "cell_type": "code",
   "execution_count": 4,
   "metadata": {},
   "outputs": [
    {
     "data": {
      "text/html": [
       "<div>\n",
       "<style scoped>\n",
       "    .dataframe tbody tr th:only-of-type {\n",
       "        vertical-align: middle;\n",
       "    }\n",
       "\n",
       "    .dataframe tbody tr th {\n",
       "        vertical-align: top;\n",
       "    }\n",
       "\n",
       "    .dataframe thead th {\n",
       "        text-align: right;\n",
       "    }\n",
       "</style>\n",
       "<table border=\"1\" class=\"dataframe\">\n",
       "  <thead>\n",
       "    <tr style=\"text-align: right;\">\n",
       "      <th></th>\n",
       "      <th>country</th>\n",
       "      <th>year</th>\n",
       "      <th>region</th>\n",
       "      <th>population</th>\n",
       "      <th>life_expectancy</th>\n",
       "      <th>age5_surviving</th>\n",
       "      <th>babies_per_woman</th>\n",
       "      <th>gdp_per_capita</th>\n",
       "      <th>gdp_per_day</th>\n",
       "    </tr>\n",
       "  </thead>\n",
       "  <tbody>\n",
       "    <tr>\n",
       "      <th>0</th>\n",
       "      <td>Afghanistan</td>\n",
       "      <td>1800</td>\n",
       "      <td>Asia</td>\n",
       "      <td>3280000.0</td>\n",
       "      <td>28.21</td>\n",
       "      <td>53.142</td>\n",
       "      <td>7.0</td>\n",
       "      <td>603.0</td>\n",
       "      <td>1.650924</td>\n",
       "    </tr>\n",
       "    <tr>\n",
       "      <th>1</th>\n",
       "      <td>Afghanistan</td>\n",
       "      <td>1810</td>\n",
       "      <td>Asia</td>\n",
       "      <td>3280000.0</td>\n",
       "      <td>28.11</td>\n",
       "      <td>53.002</td>\n",
       "      <td>7.0</td>\n",
       "      <td>604.0</td>\n",
       "      <td>1.653662</td>\n",
       "    </tr>\n",
       "    <tr>\n",
       "      <th>2</th>\n",
       "      <td>Afghanistan</td>\n",
       "      <td>1820</td>\n",
       "      <td>Asia</td>\n",
       "      <td>3323519.0</td>\n",
       "      <td>28.01</td>\n",
       "      <td>52.862</td>\n",
       "      <td>7.0</td>\n",
       "      <td>604.0</td>\n",
       "      <td>1.653662</td>\n",
       "    </tr>\n",
       "    <tr>\n",
       "      <th>3</th>\n",
       "      <td>Afghanistan</td>\n",
       "      <td>1830</td>\n",
       "      <td>Asia</td>\n",
       "      <td>3448982.0</td>\n",
       "      <td>27.90</td>\n",
       "      <td>52.719</td>\n",
       "      <td>7.0</td>\n",
       "      <td>625.0</td>\n",
       "      <td>1.711157</td>\n",
       "    </tr>\n",
       "    <tr>\n",
       "      <th>4</th>\n",
       "      <td>Afghanistan</td>\n",
       "      <td>1840</td>\n",
       "      <td>Asia</td>\n",
       "      <td>3625022.0</td>\n",
       "      <td>27.80</td>\n",
       "      <td>52.576</td>\n",
       "      <td>7.0</td>\n",
       "      <td>647.0</td>\n",
       "      <td>1.771389</td>\n",
       "    </tr>\n",
       "  </tbody>\n",
       "</table>\n",
       "</div>"
      ],
      "text/plain": [
       "       country  year region  population  life_expectancy  age5_surviving  \\\n",
       "0  Afghanistan  1800   Asia   3280000.0            28.21          53.142   \n",
       "1  Afghanistan  1810   Asia   3280000.0            28.11          53.002   \n",
       "2  Afghanistan  1820   Asia   3323519.0            28.01          52.862   \n",
       "3  Afghanistan  1830   Asia   3448982.0            27.90          52.719   \n",
       "4  Afghanistan  1840   Asia   3625022.0            27.80          52.576   \n",
       "\n",
       "   babies_per_woman  gdp_per_capita  gdp_per_day  \n",
       "0               7.0           603.0     1.650924  \n",
       "1               7.0           604.0     1.653662  \n",
       "2               7.0           604.0     1.653662  \n",
       "3               7.0           625.0     1.711157  \n",
       "4               7.0           647.0     1.771389  "
      ]
     },
     "execution_count": 4,
     "metadata": {},
     "output_type": "execute_result"
    }
   ],
   "source": [
    "filename= r'F:\\Data Analysis\\Springboard\\Data Science Career Track\\16. LinkedIn Learning\\Exercise Files\\chapter3\\03_01\\gapminder.csv'\n",
    "\n",
    "gapminder = pd.read_csv(filename)\n",
    "\n",
    "gapminder.head()"
   ]
  },
  {
   "cell_type": "code",
   "execution_count": 5,
   "metadata": {},
   "outputs": [
    {
     "name": "stdout",
     "output_type": "stream",
     "text": [
      "<class 'pandas.core.frame.DataFrame'>\n",
      "RangeIndex: 14740 entries, 0 to 14739\n",
      "Data columns (total 9 columns):\n",
      " #   Column            Non-Null Count  Dtype  \n",
      "---  ------            --------------  -----  \n",
      " 0   country           14740 non-null  object \n",
      " 1   year              14740 non-null  int64  \n",
      " 2   region            14740 non-null  object \n",
      " 3   population        14740 non-null  float64\n",
      " 4   life_expectancy   14740 non-null  float64\n",
      " 5   age5_surviving    14740 non-null  float64\n",
      " 6   babies_per_woman  14740 non-null  float64\n",
      " 7   gdp_per_capita    14740 non-null  float64\n",
      " 8   gdp_per_day       14740 non-null  float64\n",
      "dtypes: float64(6), int64(1), object(2)\n",
      "memory usage: 1.0+ MB\n"
     ]
    }
   ],
   "source": [
    "gapminder.info()"
   ]
  },
  {
   "cell_type": "code",
   "execution_count": 6,
   "metadata": {},
   "outputs": [],
   "source": [
    "italy = gapminder.query('country == \"Italy\"')"
   ]
  },
  {
   "cell_type": "code",
   "execution_count": 7,
   "metadata": {},
   "outputs": [
    {
     "data": {
      "text/html": [
       "<div>\n",
       "<style scoped>\n",
       "    .dataframe tbody tr th:only-of-type {\n",
       "        vertical-align: middle;\n",
       "    }\n",
       "\n",
       "    .dataframe tbody tr th {\n",
       "        vertical-align: top;\n",
       "    }\n",
       "\n",
       "    .dataframe thead th {\n",
       "        text-align: right;\n",
       "    }\n",
       "</style>\n",
       "<table border=\"1\" class=\"dataframe\">\n",
       "  <thead>\n",
       "    <tr style=\"text-align: right;\">\n",
       "      <th></th>\n",
       "      <th>country</th>\n",
       "      <th>year</th>\n",
       "      <th>region</th>\n",
       "      <th>population</th>\n",
       "      <th>life_expectancy</th>\n",
       "      <th>age5_surviving</th>\n",
       "      <th>babies_per_woman</th>\n",
       "      <th>gdp_per_capita</th>\n",
       "      <th>gdp_per_day</th>\n",
       "    </tr>\n",
       "  </thead>\n",
       "  <tbody>\n",
       "    <tr>\n",
       "      <th>6397</th>\n",
       "      <td>Italy</td>\n",
       "      <td>1800</td>\n",
       "      <td>Europe</td>\n",
       "      <td>18822234.0</td>\n",
       "      <td>29.69</td>\n",
       "      <td>54.259</td>\n",
       "      <td>5.47</td>\n",
       "      <td>2225.0</td>\n",
       "      <td>6.091718</td>\n",
       "    </tr>\n",
       "    <tr>\n",
       "      <th>6398</th>\n",
       "      <td>Italy</td>\n",
       "      <td>1810</td>\n",
       "      <td>Europe</td>\n",
       "      <td>19491674.0</td>\n",
       "      <td>29.69</td>\n",
       "      <td>54.395</td>\n",
       "      <td>5.47</td>\n",
       "      <td>2371.0</td>\n",
       "      <td>6.491444</td>\n",
       "    </tr>\n",
       "    <tr>\n",
       "      <th>6399</th>\n",
       "      <td>Italy</td>\n",
       "      <td>1820</td>\n",
       "      <td>Europe</td>\n",
       "      <td>20341608.0</td>\n",
       "      <td>29.69</td>\n",
       "      <td>54.531</td>\n",
       "      <td>5.47</td>\n",
       "      <td>2474.0</td>\n",
       "      <td>6.773443</td>\n",
       "    </tr>\n",
       "    <tr>\n",
       "      <th>6400</th>\n",
       "      <td>Italy</td>\n",
       "      <td>1830</td>\n",
       "      <td>Europe</td>\n",
       "      <td>21529667.0</td>\n",
       "      <td>29.69</td>\n",
       "      <td>54.667</td>\n",
       "      <td>5.47</td>\n",
       "      <td>2471.0</td>\n",
       "      <td>6.765229</td>\n",
       "    </tr>\n",
       "    <tr>\n",
       "      <th>6401</th>\n",
       "      <td>Italy</td>\n",
       "      <td>1840</td>\n",
       "      <td>Europe</td>\n",
       "      <td>22956667.0</td>\n",
       "      <td>29.69</td>\n",
       "      <td>54.804</td>\n",
       "      <td>5.47</td>\n",
       "      <td>2524.0</td>\n",
       "      <td>6.910335</td>\n",
       "    </tr>\n",
       "  </tbody>\n",
       "</table>\n",
       "</div>"
      ],
      "text/plain": [
       "     country  year  region  population  life_expectancy  age5_surviving  \\\n",
       "6397   Italy  1800  Europe  18822234.0            29.69          54.259   \n",
       "6398   Italy  1810  Europe  19491674.0            29.69          54.395   \n",
       "6399   Italy  1820  Europe  20341608.0            29.69          54.531   \n",
       "6400   Italy  1830  Europe  21529667.0            29.69          54.667   \n",
       "6401   Italy  1840  Europe  22956667.0            29.69          54.804   \n",
       "\n",
       "      babies_per_woman  gdp_per_capita  gdp_per_day  \n",
       "6397              5.47          2225.0     6.091718  \n",
       "6398              5.47          2371.0     6.491444  \n",
       "6399              5.47          2474.0     6.773443  \n",
       "6400              5.47          2471.0     6.765229  \n",
       "6401              5.47          2524.0     6.910335  "
      ]
     },
     "execution_count": 7,
     "metadata": {},
     "output_type": "execute_result"
    }
   ],
   "source": [
    "italy.head()"
   ]
  },
  {
   "cell_type": "code",
   "execution_count": 8,
   "metadata": {},
   "outputs": [
    {
     "data": {
      "text/plain": [
       "<matplotlib.axes._subplots.AxesSubplot at 0x1e34046d0c8>"
      ]
     },
     "execution_count": 8,
     "metadata": {},
     "output_type": "execute_result"
    },
    {
     "data": {
      "image/png": "[encoded data removed]",
      "text/plain": [
       "<Figure size 432x288 with 1 Axes>"
      ]
     },
     "metadata": {
      "needs_background": "light"
     },
     "output_type": "display_data"
    }
   ],
   "source": [
    "italy.plot.scatter(\"year\", \"population\")"
   ]
  },
  {
   "cell_type": "code",
   "execution_count": 9,
   "metadata": {},
   "outputs": [
    {
     "data": {
      "text/plain": [
       "<matplotlib.axes._subplots.AxesSubplot at 0x1e3415adac8>"
      ]
     },
     "execution_count": 9,
     "metadata": {},
     "output_type": "execute_result"
    },
    {
     "data": {
      "image/png": "[encoded data removed]",
      "text/plain": [
       "<Figure size 432x288 with 1 Axes>"
      ]
     },
     "metadata": {
      "needs_background": "light"
     },
     "output_type": "display_data"
    }
   ],
   "source": [
    "gapminder.query('country == \"India\"').plot.scatter(\"year\",\"population\")"
   ]
  },
  {
   "cell_type": "code",
   "execution_count": 10,
   "metadata": {},
   "outputs": [
    {
     "data": {
      "text/plain": [
       "<matplotlib.axes._subplots.AxesSubplot at 0x1e341604688>"
      ]
     },
     "execution_count": 10,
     "metadata": {},
     "output_type": "execute_result"
    },
    {
     "data": {
      "image/png": "[encoded data removed]",
      "text/plain": [
       "<Figure size 432x288 with 1 Axes>"
      ]
     },
     "metadata": {
      "needs_background": "light"
     },
     "output_type": "display_data"
    }
   ],
   "source": [
    "italy.plot.scatter(\"year\", \"gdp_per_day\", logy=True)"
   ]
  },
  {
   "cell_type": "code",
   "execution_count": 11,
   "metadata": {},
   "outputs": [
    {
     "data": {
      "text/plain": [
       "<matplotlib.axes._subplots.AxesSubplot at 0x1e3416e2048>"
      ]
     },
     "execution_count": 11,
     "metadata": {},
     "output_type": "execute_result"
    },
    {
     "data": {
      "image/png": "[encoded data removed]",
      "text/plain": [
       "<Figure size 432x288 with 1 Axes>"
      ]
     },
     "metadata": {
      "needs_background": "light"
     },
     "output_type": "display_data"
    }
   ],
   "source": [
    "italy.plot.scatter(\"gdp_per_day\", \"life_expectancy\", logx=True)"
   ]
  },
  {
   "cell_type": "code",
   "execution_count": 12,
   "metadata": {},
   "outputs": [
    {
     "data": {
      "text/plain": [
       "<matplotlib.axes._subplots.AxesSubplot at 0x1e34185c408>"
      ]
     },
     "execution_count": 12,
     "metadata": {},
     "output_type": "execute_result"
    },
    {
     "data": {
      "image/png": "[encoded data removed]",
      "text/plain": [
       "<Figure size 432x288 with 1 Axes>"
      ]
     },
     "metadata": {
      "needs_background": "light"
     },
     "output_type": "display_data"
    }
   ],
   "source": [
    "size = np.where(italy.year % 10 == 0,30,2)\n",
    "\n",
    "italy.plot.scatter(\"gdp_per_day\", \"life_expectancy\", logx=True, s=size)"
   ]
  },
  {
   "cell_type": "code",
   "execution_count": 13,
   "metadata": {},
   "outputs": [
    {
     "data": {
      "text/plain": [
       "<matplotlib.axes._subplots.AxesSubplot at 0x1e3419808c8>"
      ]
     },
     "execution_count": 13,
     "metadata": {},
     "output_type": "execute_result"
    },
    {
     "data": {
      "image/png": "[encoded data removed]",
      "text/plain": [
       "<Figure size 432x288 with 1 Axes>"
      ]
     },
     "metadata": {
      "needs_background": "light"
     },
     "output_type": "display_data"
    }
   ],
   "source": [
    "data = gapminder.query('(country == \"Italy\") or (country == \"United States\")')\n",
    "\n",
    "size = np.where(data.year % 10 == 0,30,2)\n",
    "color = np.where(data.country == 'Italy','blue','orange')\n",
    "\n",
    "data.plot.scatter(\"gdp_per_day\", \"life_expectancy\", logx=True, s=size, c=color)"
   ]
  },
  {
   "cell_type": "code",
   "execution_count": 14,
   "metadata": {},
   "outputs": [
    {
     "data": {
      "text/plain": [
       "<matplotlib.axes._subplots.AxesSubplot at 0x1e341c5bfc8>"
      ]
     },
     "execution_count": 14,
     "metadata": {},
     "output_type": "execute_result"
    },
    {
     "data": {
      "image/png": "[encoded data removed]",
      "text/plain": [
       "<Figure size 432x288 with 1 Axes>"
      ]
     },
     "metadata": {
      "needs_background": "light"
     },
     "output_type": "display_data"
    }
   ],
   "source": [
    "data = gapminder.query('(country == \"China\") or (country == \"United States\")')\n",
    "\n",
    "size = np.where(data.year % 10 == 0,30,2)\n",
    "color = np.where(data.country == 'China','red','orange')\n",
    "\n",
    "ax = data.plot.scatter(\"gdp_per_day\", \"life_expectancy\", logx=True, s=size, c=color)\n",
    "\n",
    "data[data.country == 'China'].plot.line(x='gdp_per_day',y='life_expectancy',ax=ax)"
   ]
  },
  {
   "cell_type": "code",
   "execution_count": null,
   "metadata": {},
   "outputs": [],
   "source": []
  }
 ],
 "metadata": {
  "kernelspec": {
   "display_name": "Python 3",
   "language": "python",
   "name": "python3"
  },
  "language_info": {
   "codemirror_mode": {
    "name": "ipython",
    "version": 3
   },
   "file_extension": ".py",
   "mimetype": "text/x-python",
   "name": "python",
   "nbconvert_exporter": "python",
   "pygments_lexer": "ipython3",
   "version": "3.7.6"
  },
  "toc": {
   "base_numbering": 1,
   "nav_menu": {},
   "number_sections": true,
   "sideBar": true,
   "skip_h1_title": false,
   "title_cell": "Table of Contents",
   "title_sidebar": "Contents",
   "toc_cell": false,
   "toc_position": {},
   "toc_section_display": true,
   "toc_window_display": false
  }
 },
 "nbformat": 4,
 "nbformat_minor": 2
}
