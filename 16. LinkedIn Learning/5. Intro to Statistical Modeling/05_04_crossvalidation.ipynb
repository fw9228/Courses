{
 "cells": [
  {
   "cell_type": "markdown",
   "metadata": {},
   "source": [
    "## Python statistics essential training - 05_04_crossvalidation"
   ]
  },
  {
   "cell_type": "markdown",
   "metadata": {},
   "source": [
    "Standard imports"
   ]
  },
  {
   "cell_type": "code",
   "execution_count": 1,
   "metadata": {},
   "outputs": [],
   "source": [
    "import math"
   ]
  },
  {
   "cell_type": "code",
   "execution_count": 2,
   "metadata": {},
   "outputs": [],
   "source": [
    "import numpy as np\n",
    "import pandas as pd"
   ]
  },
  {
   "cell_type": "code",
   "execution_count": 3,
   "metadata": {},
   "outputs": [],
   "source": [
    "import matplotlib\n",
    "import matplotlib.pyplot as pp"
   ]
  },
  {
   "cell_type": "code",
   "execution_count": 4,
   "metadata": {},
   "outputs": [],
   "source": [
    "%matplotlib inline"
   ]
  },
  {
   "cell_type": "code",
   "execution_count": 5,
   "metadata": {},
   "outputs": [],
   "source": [
    "import statsmodels\n",
    "import statsmodels.api as sm\n",
    "import statsmodels.formula.api as smf"
   ]
  },
  {
   "cell_type": "markdown",
   "metadata": {},
   "source": [
    "Loading gapminder data for year 1985 (Live Aid!)."
   ]
  },
  {
   "cell_type": "code",
   "execution_count": 6,
   "metadata": {},
   "outputs": [
    {
     "data": {
      "text/html": [
       "<div>\n",
       "<style scoped>\n",
       "    .dataframe tbody tr th:only-of-type {\n",
       "        vertical-align: middle;\n",
       "    }\n",
       "\n",
       "    .dataframe tbody tr th {\n",
       "        vertical-align: top;\n",
       "    }\n",
       "\n",
       "    .dataframe thead th {\n",
       "        text-align: right;\n",
       "    }\n",
       "</style>\n",
       "<table border=\"1\" class=\"dataframe\">\n",
       "  <thead>\n",
       "    <tr style=\"text-align: right;\">\n",
       "      <th></th>\n",
       "      <th>country</th>\n",
       "      <th>year</th>\n",
       "      <th>region</th>\n",
       "      <th>population</th>\n",
       "      <th>life_expectancy</th>\n",
       "      <th>age5_surviving</th>\n",
       "      <th>babies_per_woman</th>\n",
       "      <th>gdp_per_capita</th>\n",
       "      <th>gdp_per_day</th>\n",
       "    </tr>\n",
       "  </thead>\n",
       "  <tbody>\n",
       "    <tr>\n",
       "      <th>0</th>\n",
       "      <td>Afghanistan</td>\n",
       "      <td>1800</td>\n",
       "      <td>Asia</td>\n",
       "      <td>3280000.0</td>\n",
       "      <td>28.21</td>\n",
       "      <td>53.142</td>\n",
       "      <td>7.00</td>\n",
       "      <td>603.0</td>\n",
       "      <td>1.650924</td>\n",
       "    </tr>\n",
       "    <tr>\n",
       "      <th>1</th>\n",
       "      <td>Afghanistan</td>\n",
       "      <td>1810</td>\n",
       "      <td>Asia</td>\n",
       "      <td>3280000.0</td>\n",
       "      <td>28.11</td>\n",
       "      <td>53.002</td>\n",
       "      <td>7.00</td>\n",
       "      <td>604.0</td>\n",
       "      <td>1.653662</td>\n",
       "    </tr>\n",
       "    <tr>\n",
       "      <th>2</th>\n",
       "      <td>Afghanistan</td>\n",
       "      <td>1820</td>\n",
       "      <td>Asia</td>\n",
       "      <td>3323519.0</td>\n",
       "      <td>28.01</td>\n",
       "      <td>52.862</td>\n",
       "      <td>7.00</td>\n",
       "      <td>604.0</td>\n",
       "      <td>1.653662</td>\n",
       "    </tr>\n",
       "    <tr>\n",
       "      <th>3</th>\n",
       "      <td>Afghanistan</td>\n",
       "      <td>1830</td>\n",
       "      <td>Asia</td>\n",
       "      <td>3448982.0</td>\n",
       "      <td>27.90</td>\n",
       "      <td>52.719</td>\n",
       "      <td>7.00</td>\n",
       "      <td>625.0</td>\n",
       "      <td>1.711157</td>\n",
       "    </tr>\n",
       "    <tr>\n",
       "      <th>4</th>\n",
       "      <td>Afghanistan</td>\n",
       "      <td>1840</td>\n",
       "      <td>Asia</td>\n",
       "      <td>3625022.0</td>\n",
       "      <td>27.80</td>\n",
       "      <td>52.576</td>\n",
       "      <td>7.00</td>\n",
       "      <td>647.0</td>\n",
       "      <td>1.771389</td>\n",
       "    </tr>\n",
       "    <tr>\n",
       "      <th>...</th>\n",
       "      <td>...</td>\n",
       "      <td>...</td>\n",
       "      <td>...</td>\n",
       "      <td>...</td>\n",
       "      <td>...</td>\n",
       "      <td>...</td>\n",
       "      <td>...</td>\n",
       "      <td>...</td>\n",
       "      <td>...</td>\n",
       "    </tr>\n",
       "    <tr>\n",
       "      <th>14735</th>\n",
       "      <td>Zimbabwe</td>\n",
       "      <td>2011</td>\n",
       "      <td>Africa</td>\n",
       "      <td>14255592.0</td>\n",
       "      <td>51.60</td>\n",
       "      <td>90.800</td>\n",
       "      <td>3.64</td>\n",
       "      <td>1626.0</td>\n",
       "      <td>4.451745</td>\n",
       "    </tr>\n",
       "    <tr>\n",
       "      <th>14736</th>\n",
       "      <td>Zimbabwe</td>\n",
       "      <td>2012</td>\n",
       "      <td>Africa</td>\n",
       "      <td>14565482.0</td>\n",
       "      <td>54.20</td>\n",
       "      <td>91.330</td>\n",
       "      <td>3.56</td>\n",
       "      <td>1750.0</td>\n",
       "      <td>4.791239</td>\n",
       "    </tr>\n",
       "    <tr>\n",
       "      <th>14737</th>\n",
       "      <td>Zimbabwe</td>\n",
       "      <td>2013</td>\n",
       "      <td>Africa</td>\n",
       "      <td>14898092.0</td>\n",
       "      <td>55.70</td>\n",
       "      <td>91.670</td>\n",
       "      <td>3.49</td>\n",
       "      <td>1773.0</td>\n",
       "      <td>4.854209</td>\n",
       "    </tr>\n",
       "    <tr>\n",
       "      <th>14738</th>\n",
       "      <td>Zimbabwe</td>\n",
       "      <td>2014</td>\n",
       "      <td>Africa</td>\n",
       "      <td>15245855.0</td>\n",
       "      <td>57.00</td>\n",
       "      <td>91.900</td>\n",
       "      <td>3.41</td>\n",
       "      <td>1773.0</td>\n",
       "      <td>4.854209</td>\n",
       "    </tr>\n",
       "    <tr>\n",
       "      <th>14739</th>\n",
       "      <td>Zimbabwe</td>\n",
       "      <td>2015</td>\n",
       "      <td>Africa</td>\n",
       "      <td>15602751.0</td>\n",
       "      <td>59.30</td>\n",
       "      <td>92.040</td>\n",
       "      <td>3.35</td>\n",
       "      <td>1801.0</td>\n",
       "      <td>4.930869</td>\n",
       "    </tr>\n",
       "  </tbody>\n",
       "</table>\n",
       "<p>14740 rows × 9 columns</p>\n",
       "</div>"
      ],
      "text/plain": [
       "           country  year  region  population  life_expectancy  age5_surviving  \\\n",
       "0      Afghanistan  1800    Asia   3280000.0            28.21          53.142   \n",
       "1      Afghanistan  1810    Asia   3280000.0            28.11          53.002   \n",
       "2      Afghanistan  1820    Asia   3323519.0            28.01          52.862   \n",
       "3      Afghanistan  1830    Asia   3448982.0            27.90          52.719   \n",
       "4      Afghanistan  1840    Asia   3625022.0            27.80          52.576   \n",
       "...            ...   ...     ...         ...              ...             ...   \n",
       "14735     Zimbabwe  2011  Africa  14255592.0            51.60          90.800   \n",
       "14736     Zimbabwe  2012  Africa  14565482.0            54.20          91.330   \n",
       "14737     Zimbabwe  2013  Africa  14898092.0            55.70          91.670   \n",
       "14738     Zimbabwe  2014  Africa  15245855.0            57.00          91.900   \n",
       "14739     Zimbabwe  2015  Africa  15602751.0            59.30          92.040   \n",
       "\n",
       "       babies_per_woman  gdp_per_capita  gdp_per_day  \n",
       "0                  7.00           603.0     1.650924  \n",
       "1                  7.00           604.0     1.653662  \n",
       "2                  7.00           604.0     1.653662  \n",
       "3                  7.00           625.0     1.711157  \n",
       "4                  7.00           647.0     1.771389  \n",
       "...                 ...             ...          ...  \n",
       "14735              3.64          1626.0     4.451745  \n",
       "14736              3.56          1750.0     4.791239  \n",
       "14737              3.49          1773.0     4.854209  \n",
       "14738              3.41          1773.0     4.854209  \n",
       "14739              3.35          1801.0     4.930869  \n",
       "\n",
       "[14740 rows x 9 columns]"
      ]
     },
     "execution_count": 6,
     "metadata": {},
     "output_type": "execute_result"
    }
   ],
   "source": [
    "file = r'F:\\Data Analysis\\Springboard\\Data Science Career Track\\16. LinkedIn Learning\\Exercise Files\\chapter5\\05_02\\gapminder.csv'\n",
    "\n",
    "gapminder = pd.read_csv(file)\n",
    "\n",
    "gapminder"
   ]
  },
  {
   "cell_type": "code",
   "execution_count": 7,
   "metadata": {},
   "outputs": [],
   "source": [
    "gdata = gapminder.query('year == 1985')"
   ]
  },
  {
   "cell_type": "markdown",
   "metadata": {},
   "source": [
    "Refactored plotting so that it works on arbitrary datasets."
   ]
  },
  {
   "cell_type": "code",
   "execution_count": 8,
   "metadata": {},
   "outputs": [],
   "source": [
    "def sc(data):\n",
    "    return 1e-6 * data.population, data.region.map({'Africa': 'skyblue', 'Europe': 'gold',\n",
    "                                                   'America': 'palegreen', 'Asia': 'coral'})\n",
    "\n",
    "def plotdata(data=gdata):\n",
    "    size, colors = sc(data)\n",
    "    data.plot.scatter('age5_surviving','babies_per_woman',\n",
    "                      c=colors,s=size,linewidths=0.5,edgecolor='k',alpha=0.5)\n",
    "                      \n",
    "def plotfit(fit,data=gdata):\n",
    "    plotdata(data)\n",
    "\n",
    "    size, colors = sc(data)\n",
    "    pp.scatter(data.age5_surviving,fit.predict(data),\n",
    "               c=colors,s=30,linewidths=0.5,edgecolor='k',marker='D')"
   ]
  },
  {
   "cell_type": "markdown",
   "metadata": {},
   "source": [
    "Model formulas from the last two videos"
   ]
  },
  {
   "cell_type": "code",
   "execution_count": 9,
   "metadata": {},
   "outputs": [],
   "source": [
    "f_groupmeans = 'babies_per_woman ~ -1 + region'\n",
    "f_surviving = 'babies_per_woman ~ -1 + region + age5_surviving'\n",
    "f_srp = ('babies_per_woman ~ -1 + region + age5_surviving'\n",
    "         '+ age5_surviving:region - age5_surviving + population')"
   ]
  },
  {
   "cell_type": "code",
   "execution_count": 10,
   "metadata": {},
   "outputs": [],
   "source": [
    "shuffled = gdata.sample(len(gdata))"
   ]
  },
  {
   "cell_type": "code",
   "execution_count": 11,
   "metadata": {},
   "outputs": [],
   "source": [
    "training, testing = shuffled.iloc[:len(gdata)//2], shuffled.iloc[len(gdata)//2:]"
   ]
  },
  {
   "cell_type": "code",
   "execution_count": 12,
   "metadata": {},
   "outputs": [],
   "source": [
    "surviving = smf.ols(f_surviving, data=training).fit()"
   ]
  },
  {
   "cell_type": "code",
   "execution_count": 13,
   "metadata": {},
   "outputs": [
    {
     "data": {
      "image/png": "[encoded data removed]",
      "text/plain": [
       "<Figure size 432x288 with 1 Axes>"
      ]
     },
     "metadata": {
      "needs_background": "light"
     },
     "output_type": "display_data"
    }
   ],
   "source": [
    "plotfit(surviving,training)"
   ]
  },
  {
   "cell_type": "code",
   "execution_count": 14,
   "metadata": {},
   "outputs": [
    {
     "data": {
      "text/plain": [
       "0.8955052757652933"
      ]
     },
     "execution_count": 14,
     "metadata": {},
     "output_type": "execute_result"
    }
   ],
   "source": [
    "surviving.mse_resid"
   ]
  },
  {
   "cell_type": "code",
   "execution_count": 15,
   "metadata": {},
   "outputs": [
    {
     "data": {
      "image/png": "[encoded data removed]",
      "text/plain": [
       "<Figure size 432x288 with 1 Axes>"
      ]
     },
     "metadata": {
      "needs_background": "light"
     },
     "output_type": "display_data"
    }
   ],
   "source": [
    "plotfit(surviving,testing)"
   ]
  },
  {
   "cell_type": "code",
   "execution_count": 16,
   "metadata": {},
   "outputs": [
    {
     "data": {
      "text/plain": [
       "1.061879956539512"
      ]
     },
     "execution_count": 16,
     "metadata": {},
     "output_type": "execute_result"
    }
   ],
   "source": [
    "resid = surviving.predict(testing) - testing.babies_per_woman\n",
    "df = len(testing) - surviving.df_model - 1\n",
    "np.sum(resid**2) / df"
   ]
  },
  {
   "cell_type": "code",
   "execution_count": 17,
   "metadata": {},
   "outputs": [],
   "source": [
    "def cross_validate(data,formula,response,n=100):\n",
    "    ret = []\n",
    "    \n",
    "    for i in range(n):\n",
    "        shuffled = data.sample(len(data))\n",
    "        \n",
    "        training, testing = shuffled.iloc[:len(data)//2], shuffled.iloc[len(data)//2:]\n",
    "        \n",
    "        trained = smf.ols(formula, data=training).fit()\n",
    "        \n",
    "        resid = trained.predict(testing) - testing[response]\n",
    "        df = len(testing) - trained.df_model - 1\n",
    "        mse = np.sum(resid**2) / df\n",
    "        \n",
    "        ret.append(mse)\n",
    "    \n",
    "    return np.mean(ret)"
   ]
  },
  {
   "cell_type": "code",
   "execution_count": 18,
   "metadata": {},
   "outputs": [
    {
     "data": {
      "text/plain": [
       "1.6733234491056121"
      ]
     },
     "execution_count": 18,
     "metadata": {},
     "output_type": "execute_result"
    }
   ],
   "source": [
    "cross_validate(gdata,f_groupmeans,'babies_per_woman')"
   ]
  },
  {
   "cell_type": "code",
   "execution_count": 19,
   "metadata": {},
   "outputs": [
    {
     "data": {
      "text/plain": [
       "1.0523725905365835"
      ]
     },
     "execution_count": 19,
     "metadata": {},
     "output_type": "execute_result"
    }
   ],
   "source": [
    "cross_validate(gdata,f_surviving,'babies_per_woman')"
   ]
  },
  {
   "cell_type": "code",
   "execution_count": 20,
   "metadata": {},
   "outputs": [
    {
     "data": {
      "text/plain": [
       "1.2308436845098574"
      ]
     },
     "execution_count": 20,
     "metadata": {},
     "output_type": "execute_result"
    }
   ],
   "source": [
    "cross_validate(gdata,f_srp,'babies_per_woman')"
   ]
  },
  {
   "cell_type": "code",
   "execution_count": null,
   "metadata": {},
   "outputs": [],
   "source": []
  }
 ],
 "metadata": {
  "kernelspec": {
   "display_name": "Python 3",
   "language": "python",
   "name": "python3"
  },
  "language_info": {
   "codemirror_mode": {
    "name": "ipython",
    "version": 3
   },
   "file_extension": ".py",
   "mimetype": "text/x-python",
   "name": "python",
   "nbconvert_exporter": "python",
   "pygments_lexer": "ipython3",
   "version": "3.7.6"
  },
  "toc": {
   "base_numbering": 1,
   "nav_menu": {},
   "number_sections": true,
   "sideBar": true,
   "skip_h1_title": false,
   "title_cell": "Table of Contents",
   "title_sidebar": "Contents",
   "toc_cell": false,
   "toc_position": {},
   "toc_section_display": true,
   "toc_window_display": false
  }
 },
 "nbformat": 4,
 "nbformat_minor": 2
}
