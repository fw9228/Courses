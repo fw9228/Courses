{
 "cells": [
  {
   "cell_type": "markdown",
   "metadata": {},
   "source": [
    "# Creating and looping through dictionaries\n",
    "\n",
    "You'll often encounter the need to loop over some array type data, like in Chapter 1, and provide it some structure so you can find the data you desire quickly.\n",
    "\n",
    "You start that by creating an empty dictionary and assigning part of your array data as the key and the rest as the value.\n",
    "\n",
    "Previously, you used sorted() to organize your data in a list. Dictionaries can also be sorted. By default, using sorted() on a dictionary will sort by the keys of the dictionary. You can also reverse the order by passing reverse=True as a keyword argument.\n",
    "\n",
    "Finally, since sorted returns a list, you can use slice notation to select only part of the list. For example, [:10] will slice the first ten items off a list and return only those items."
   ]
  },
  {
   "cell_type": "markdown",
   "metadata": {},
   "source": [
    "1. Create an empty dictionary called names_by_rank.\n",
    "2. Loop over female_baby_names_2012.items(), unpacking it into the variables rank and name.\n",
    "3. Inside the loop, add each name to the names_by_rank dictionary using the rank as the key.\n",
    "4. Sort the names_by_rank dictionary keys in descending order, select the first ten items. Print each item."
   ]
  },
  {
   "cell_type": "code",
   "execution_count": 1,
   "metadata": {},
   "outputs": [],
   "source": [
    "female_baby_names_2012 = {1: 'EMMA', 2: 'LEAH', 3: 'SARAH', 4: 'SOPHIA', 5: 'ESTHER', 6: 'RACHEL', 7: 'CHAYA', 8: 'AVA', 9: 'CHANA', 10: 'MIRIAM', 11: 'ELLA', 12: 'EMILY', 13: 'MIA', 14: 'SARA', 15: 'CHARLOTTE', 16: 'ISABELLA', 17: 'MAYA', 18: 'ELIZABETH', 19: 'ABIGAIL', 20: 'ALEXANDRA', 21: 'VICTORIA', 22: 'LILY', 23: 'SOFIA', 24: 'RIVKA', 25: 'ZOE', 26: 'JULIA', 27: 'SOPHIE', 28: 'GABRIELLA', 29: 'HANNAH', 30: 'GRACE', 31: 'AVERY', 32: 'STELLA', 33: 'SHAINDY', 34: 'FAIGY', 35: 'GITTY', 36: 'MADISON', 37: 'MALKY', 38: 'EVA', 39: 'MALKA', 40: 'ALEXA', 41: 'MADELINE', 42: 'PENELOPE', 43: 'TOBY', 44: 'RIVKY', 45: 'NICOLE', 46: 'VIOLET', 47: 'NATALIE', 48: 'REBECCA', 49: 'MARIA', 50: 'YITTY', 51: 'NINA', 52: 'KATHERINE', 53: 'RILEY', 54: 'SIENNA', 55: 'SYDNEY', 56: 'VIVIENNE', 57: 'VALENTINA', 58: 'TALIA', 59: 'JOSEPHINE', 60: 'FRANCESCA', 61: 'ZISSY', 62: 'SURY', 63: 'NAOMI', 64: 'YIDES', 65: 'SKYLAR', 66: 'VERONICA', 67: 'TAYLOR', 68: 'ZOEY', 69: 'LILIANA', 70: 'YAEL', 71: 'SAVANNAH', 72: 'VANESSA', 73: 'SIMONE', 74: 'SLOANE', 75: 'VERA', 76: 'YEHUDIS', 77: 'SYLVIA', 78: 'SIMA', 79: 'SHAINA', 80: 'TZIPORA', 81: 'YITTA', 82: 'TZIVIA', 83: 'YARA'}"
   ]
  },
  {
   "cell_type": "code",
   "execution_count": 2,
   "metadata": {},
   "outputs": [
    {
     "name": "stdout",
     "output_type": "stream",
     "text": [
      "YARA\n",
      "TZIVIA\n",
      "YITTA\n",
      "TZIPORA\n",
      "SHAINA\n",
      "SIMA\n",
      "SYLVIA\n",
      "YEHUDIS\n",
      "VERA\n",
      "SLOANE\n"
     ]
    }
   ],
   "source": [
    "# Create an empty dictionary: names_by_rank\n",
    "names_by_rank = {}\n",
    "\n",
    "# Loop over the girl names\n",
    "for rank, name in female_baby_names_2012.items():\n",
    "    # Add each name to the names_by_rank dictionary using rank as the key\n",
    "    names_by_rank[rank] = name\n",
    "    \n",
    "# Sort the names_by_rank dict by rank in descending order and slice the first 10 items\n",
    "for rank in sorted(names_by_rank, reverse=True)[:10]:\n",
    "    # Print each item\n",
    "    print(names_by_rank[rank])"
   ]
  },
  {
   "cell_type": "markdown",
   "metadata": {},
   "source": [
    "# Safely finding by key\n",
    "Python provides a faster, more versatile tool to help with this problem in the form of the .get() method. The .get() method allows you to supply the name of a key, and optionally, what you'd like to have returned if the key is not found."
   ]
  },
  {
   "cell_type": "markdown",
   "metadata": {},
   "source": [
    "1. Safely print rank 7 from the names dictionary.\n",
    "2. Safely print the type of rank 100 from the names dictionary.\n",
    "3. Safely print rank 105 from the names dictionary or 'Not Found' if 105 is not found.\n"
   ]
  },
  {
   "cell_type": "code",
   "execution_count": 3,
   "metadata": {},
   "outputs": [
    {
     "name": "stdout",
     "output_type": "stream",
     "text": [
      "CHAYA\n",
      "<class 'NoneType'>\n",
      "Not Found\n"
     ]
    }
   ],
   "source": [
    "names = {1: 'EMMA', 2: 'LEAH', 3: 'SARAH', 4: 'SOPHIA', 5: 'ESTHER', 6: 'RACHEL', 7: 'CHAYA', 8: 'AVA', 9: 'CHANA', 10: 'MIRIAM', 11: 'ELLA', 12: 'EMILY', 13: 'MIA', 14: 'SARA', 15: 'CHARLOTTE', 16: 'ISABELLA', 17: 'MAYA', 18: 'ELIZABETH', 19: 'ABIGAIL', 20: 'ALEXANDRA', 21: 'VICTORIA', 22: 'LILY', 23: 'SOFIA', 24: 'RIVKA', 25: 'ZOE', 26: 'JULIA', 27: 'SOPHIE', 28: 'GABRIELLA', 29: 'HANNAH', 30: 'GRACE', 31: 'AVERY', 32: 'STELLA', 33: 'SHAINDY', 34: 'FAIGY', 35: 'GITTY', 36: 'MADISON', 37: 'MALKY', 38: 'EVA', 39: 'MALKA', 40: 'ALEXA', 41: 'MADELINE', 42: 'PENELOPE', 43: 'TOBY', 44: 'RIVKY', 45: 'NICOLE', 46: 'VIOLET', 47: 'NATALIE', 48: 'REBECCA', 49: 'MARIA', 50: 'YITTY', 51: 'NINA', 52: 'KATHERINE', 53: 'RILEY', 54: 'SIENNA', 55: 'SYDNEY', 56: 'VIVIENNE', 57: 'VALENTINA', 58: 'TALIA', 59: 'JOSEPHINE', 60: 'FRANCESCA', 61: 'ZISSY', 62: 'SURY', 63: 'NAOMI', 64: 'YIDES', 65: 'SKYLAR', 66: 'VERONICA', 67: 'TAYLOR', 68: 'ZOEY', 69: 'LILIANA', 70: 'YAEL', 71: 'SAVANNAH', 72: 'VANESSA', 73: 'SIMONE', 74: 'SLOANE', 75: 'VERA', 76: 'YEHUDIS', 77: 'SYLVIA', 78: 'SIMA', 79: 'SHAINA', 80: 'TZIPORA', 81: 'YITTA', 82: 'TZIVIA', 83: 'YARA'}\n",
    "\n",
    "# Safely print rank 7 from the names dictionary\n",
    "print(names.get(7))\n",
    "\n",
    "# Safely print the type of rank 100 from the names dictionary\n",
    "print(type(names.get(100)))\n",
    "\n",
    "# Safely print rank 105 from the names dictionary or 'Not Found'\n",
    "print(names.get(105, 'Not Found'))"
   ]
  },
  {
   "cell_type": "markdown",
   "metadata": {},
   "source": [
    "# Dealing with nested data\n",
    "\n",
    "A dictionary can contain another dictionary as the value of a key, and this is a very common way to deal with repeating data structures such as yearly, monthly or weekly data. All the same rules apply when creating or accessing the dictionary.\n",
    "\n",
    "For example, if you had a dictionary that had a ranking of my cookie consumption by year and type of cookie. It might look like cookies = {'2017': {'chocolate chip': 483, 'peanut butter': 115}, '2016': {'chocolate chip': 9513, 'peanut butter': 6792}}. I could access how many chocolate chip cookies I ate in 2016 using cookies['2016']['chocolate chip'].\n",
    "\n",
    "When exploring a new dictionary, it can be helpful to use the .keys() method to get an idea of what data might be available within the dictionary. You can also iterate over a dictionary and it will return each key in the dictionary for you to use inside the loop"
   ]
  },
  {
   "cell_type": "markdown",
   "metadata": {},
   "source": [
    "1. Print the keys of the boy_names dictionary.\n",
    "2. Print the keys of the boy_names dictionary for the year 2013.\n",
    "3. Loop over the boy_names dictionary.\n",
    "4. Inside the loop, safely print the year and the third ranked name. Print 'Unknown' if the third ranked name is not found.\n"
   ]
  },
  {
   "cell_type": "code",
   "execution_count": 4,
   "metadata": {},
   "outputs": [],
   "source": [
    "boy_names = {2012: {}, 2013: {1: 'David', 2: 'Joseph', 3: 'Michael', 4: 'Moshe', 5: 'Daniel', 6: 'Benjamin', 7: 'James', 8: 'Jacob', 9: 'Jack', 10: 'Alexander', 11: 'William', 12: 'John', 13: 'Henry', 14: 'Noah', 15: 'Samuel', 16: 'Nicholas', 17: 'Matthew', 18: 'Adam', 19: 'Chaim', 20: 'Abraham', 21: 'Liam', 22: 'Ryan', 23: 'Lucas', 24: 'Anthony', 25: 'Isaac', 26: 'Oliver', 27: 'Andrew', 28: 'Gabriel', 29: 'Yosef', 30: 'Leo', 31: 'Thomas', 32: 'Luke', 33: 'Jackson', 34: 'Shimon', 35: 'Theodore', 36: 'Joshua', 37: 'Christopher', 38: 'Sebastian', 39: 'Mason', 40: 'Eli', 41: 'Nathan', 42: 'Aaron', 43: 'Zachary', 44: 'Aron', 45: 'Luca', 46: 'Yehuda', 47: 'Yitzchok', 48: 'Owen', 49: 'Menachem', 50: 'Logan', 51: 'Aiden', 52: 'Yisroel', 53: 'Peter', 54: 'Yaakov', 55: 'Yakov', 56: 'Omar', 57: 'Levi', 58: 'Simon', 59: 'Shmuel', 60: 'Patrick', 61: 'Connor', 62: 'Jonah', 63: 'Zev', 64: 'Tzvi', 65: 'Nathaniel', 66: 'Harrison', 67: 'Tyler', 68: 'Mark', 69: 'Hunter', 70: 'Mohamed', 71: 'Lipa', 72: 'Mendel', 73: 'Sean', 74: 'Sam', 75: 'Solomon', 76: 'Martin', 77: 'Edward', 78: 'Wyatt', 79: 'Parker', 80: 'Steven', 81: 'Yechiel', 82: 'Nicolas', 83: 'Timothy', 84: 'Spencer', 85: 'Usher', 86: 'Rafael', 87: 'Yusuf', 88: 'Yehoshua', 89: 'Shaya', 90: 'Rayan', 91: 'Tristan', 92: 'Yossi', 93: 'Wesley', 94: 'Yoel', 95: 'Sawyer', 96: 'Yousef', 97: 'Walter', 98: 'Zalmen', 99: 'Yeshaya', 100: 'Yitzchak'}, 2014: {1: 'Joseph', 2: 'David', 3: 'Michael', 4: 'Moshe', 5: 'Jacob', 6: 'Benjamin', 7: 'Alexander', 8: 'Daniel', 9: 'Samuel', 10: 'Jack', 11: 'James', 12: 'Adam', 13: 'William', 14: 'Henry', 15: 'Abraham', 16: 'Nicholas', 17: 'John', 18: 'Ethan', 19: 'Liam', 20: 'Ryan', 21: 'Noah', 22: 'Matthew', 23: 'Chaim', 24: 'Theodore', 25: 'Isaac', 26: 'Lucas', 27: 'Thomas', 28: 'Yosef', 29: 'Anthony', 30: 'Oliver', 31: 'Max', 32: 'Gabriel', 33: 'Eli', 34: 'Shimon', 35: 'Luke', 36: 'Mason', 37: 'Mordechai', 38: 'Andrew', 39: 'Zachary', 40: 'Owen', 41: 'Yehuda', 42: 'Jackson', 43: 'Yisroel', 44: 'Nathan', 45: 'Aiden', 46: 'Christopher', 47: 'Jonathan', 48: 'Asher', 49: 'Logan', 50: 'Robert', 51: 'Yitzchok', 52: 'George', 53: 'Christian', 54: 'Aron', 55: 'Mark', 56: 'Levi', 57: 'Shmuel', 58: 'Miles', 59: 'Shlomo', 60: 'Peter', 61: 'Sean', 62: 'Eliezer', 63: 'Solomon', 64: 'Gavin', 65: 'Zev', 66: 'Nathaniel', 67: 'Yaakov', 68: 'Yakov', 69: 'Hunter', 70: 'Vincent', 71: 'Ari', 72: 'Edward', 73: 'Yechiel', 74: 'Oscar', 75: 'Shia', 76: 'Leonardo', 77: 'Victor', 78: 'Tyler', 79: 'Wyatt', 80: 'Sam', 81: 'Shaya', 82: 'Ian', 83: 'Raphael', 84: 'Philip', 85: 'Timothy', 86: 'Yehoshua', 87: 'Xavier', 88: 'Youssef', 89: 'Simcha', 90: 'Naftali', 91: 'Ronan', 92: 'Usher', 93: 'Shmiel', 94: 'Yousef', 95: 'Naftuli', 96: 'Yusuf', 97: 'Yossi', 98: 'Yisrael', 99: 'Shea', 100: 'Yoel', 101: 'Yahya', 102: 'Yidel'}}"
   ]
  },
  {
   "cell_type": "code",
   "execution_count": 5,
   "metadata": {},
   "outputs": [
    {
     "name": "stdout",
     "output_type": "stream",
     "text": [
      "dict_keys([2012, 2013, 2014])\n",
      "dict_keys([1, 2, 3, 4, 5, 6, 7, 8, 9, 10, 11, 12, 13, 14, 15, 16, 17, 18, 19, 20, 21, 22, 23, 24, 25, 26, 27, 28, 29, 30, 31, 32, 33, 34, 35, 36, 37, 38, 39, 40, 41, 42, 43, 44, 45, 46, 47, 48, 49, 50, 51, 52, 53, 54, 55, 56, 57, 58, 59, 60, 61, 62, 63, 64, 65, 66, 67, 68, 69, 70, 71, 72, 73, 74, 75, 76, 77, 78, 79, 80, 81, 82, 83, 84, 85, 86, 87, 88, 89, 90, 91, 92, 93, 94, 95, 96, 97, 98, 99, 100])\n",
      "2012 Unknown\n",
      "2013 Michael\n",
      "2014 Michael\n"
     ]
    }
   ],
   "source": [
    "# Print a list of keys from the boy_names dictionary\n",
    "print(boy_names.keys())\n",
    "\n",
    "# Print a list of keys from the boy_names dictionary for the year 2013\n",
    "print(boy_names[2013].keys())\n",
    "\n",
    "# Loop over the dictionary\n",
    "for year in boy_names:\n",
    "    # Safely print the year and the third ranked name or 'Unknown'\n",
    "    print(year, boy_names[year].get(3, 'Unknown'))"
   ]
  },
  {
   "cell_type": "markdown",
   "metadata": {},
   "source": [
    "# Altering dictionaries\n"
   ]
  },
  {
   "cell_type": "markdown",
   "metadata": {},
   "source": [
    "# Adding and extending dictionaries\n",
    "If you have a dictionary and you want to add data to it, you can simply create a new key and assign the data you desire to it. It's important to remember that if it's a nested dictionary, then all the keys in the data path must exist, and each key in the path must be assigned individually.\n",
    "\n",
    "You can also use the .update() method to update a dictionary with keys and values from another dictionary, tuples or keyword arguments."
   ]
  },
  {
   "cell_type": "markdown",
   "metadata": {},
   "source": [
    "1. Assign the names_2011 dictionary as the value to the 2011 key of the boy_names dictionary.\n",
    "2. Update the 2012 key in the boy_names dictionary with the following data in a list of tuples: (1, 'Casey'), (2, 'Aiden').\n",
    "3. Loop over the boy_names dictionary.\n",
    "Inside the for loop, sort the data for each year of boy_names by descending rank and take the first result which will be the lowest ranked name.\n",
    "Safely print the year and least popular name or 'Not Available' if it is not found. Take advantage of the .get() method.\n"
   ]
  },
  {
   "cell_type": "code",
   "execution_count": 6,
   "metadata": {},
   "outputs": [
    {
     "name": "stdout",
     "output_type": "stream",
     "text": [
      "2012 Aiden\n",
      "2013 Yitzchak\n",
      "2014 Yidel\n",
      "2011 Yonah\n"
     ]
    }
   ],
   "source": [
    "names_2011 = {1: 'Michael', 2: 'Joseph', 3: 'Jacob', 4: 'David', 5: 'Benjamin', 6: 'Moshe', 7: 'Daniel', 8: 'Alexander', 9: 'Matthew', 10: 'Jack', 11: 'Samuel', 12: 'James', 13: 'William', 14: 'John', 15: 'Nicholas', 16: 'Henry', 17: 'Chaim', 18: 'Anthony', 19: 'Andrew', 20: 'Liam', 21: 'Charles', 22: 'Lucas', 23: 'Dylan', 24: 'Ryan', 25: 'Thomas', 26: 'Ethan', 27: 'Menachem', 28: 'Yosef', 29: 'Luke', 30: 'Oliver', 31: 'Noah', 32: 'Eli', 33: 'Gabriel', 34: 'Max', 35: 'Shimon', 36: 'Isaac', 37: 'Joshua', 38: 'Zachary', 39: 'Leo', 40: 'Julian', 41: 'Aiden', 42: 'Jake', 43: 'Mordechai', 44: 'Yisroel', 45: 'Yehuda', 46: 'Sebastian', 47: 'Mark', 48: 'Robert', 49: 'Logan', 50: 'George', 51: 'Owen', 52: 'Vincent', 53: 'Tyler', 54: 'Yakov', 55: 'Aidan', 56: 'Yitzchok', 57: 'Asher', 58: 'Theodore', 59: 'Peter', 60: 'Solomon', 61: 'Zev', 62: 'Nathaniel', 63: 'Yaakov', 64: 'Shmuel', 65: 'Shulem', 66: 'Tzvi', 67: 'Levi', 68: 'Jayden', 69: 'Mohamed', 70: 'Cole', 71: 'Sean', 72: 'Sam', 73: 'Victor', 74: 'Omar', 75: 'Steven', 76: 'Moses', 77: 'Shia', 78: 'Usher', 79: 'Nicolas', 80: 'Yechiel', 81: 'Shaya', 82: 'Wyatt', 83: 'Tristan', 84: 'Louis', 85: 'Yehoshua', 86: 'Sholom', 87: 'Yoel', 88: 'Rocco', 89: 'Xavier', 90: 'Yitzchak', 91: 'Shea', 92: 'Spencer', 93: 'Zalmen', 94: 'Yida', 95: 'Yousef', 96: 'Youssef', 97: 'Yonah'}\n",
    "# Assign the names_2011 dictionary as the value to the 2011 key of boy_names\n",
    "boy_names[2011] = names_2011\n",
    "\n",
    "# Update the 2012 key in the boy_names dictionary\n",
    "boy_names[2012].update([(1,'Casey'), (2,'Aiden')])\n",
    "\n",
    "# Loop over the years in the boy_names dictionary \n",
    "for year in boy_names:\n",
    "    # sort the data for each year by descending rank and get the lowest one\n",
    "    lowest_ranked = sorted(boy_names[year], reverse=True)[0]\n",
    "    # Safely print the year and the least popular name or 'Not Available'\n",
    "    print(year, boy_names[year].get(lowest_ranked, 'Not Available'))"
   ]
  },
  {
   "cell_type": "markdown",
   "metadata": {},
   "source": [
    "# Popping and deleting from dictionaries"
   ]
  },
  {
   "cell_type": "markdown",
   "metadata": {},
   "source": [
    "If you want to save that deleted data into another variable for further processing, the .pop() dictionary method will do just that. You can supply a default value for .pop() much like you did for .get() to safely deal with missing keys. It's also typical to use .pop() instead of del since it is a safe method.\n",
    "\n",
    "1. Remove 2011 from female_names and store it as female_names_2011.\n",
    "2. Safely remove 2015 from female_names with a empty dictionary as the default and store it as female_names_2015. To do this, pass in an empty dictionary {} as a second argument to .pop().\n",
    "3. Delete 2012 from female_names."
   ]
  },
  {
   "cell_type": "code",
   "execution_count": 7,
   "metadata": {},
   "outputs": [],
   "source": [
    "female_names = {2011: {1: 'Olivia', 2: 'Esther', 3: 'Rachel', 4: 'Leah', 5: 'Emma', 6: 'Chaya', 7: 'Sarah', 8: 'Sophia', 9: 'Ava', 10: 'Miriam'}, 2012: {}, 2013: {1: 'Olivia', 2: 'Emma', 3: 'Esther', 4: 'Sophia', 5: 'Sarah', 6: 'Leah', 7: 'Rachel', 8: 'Chaya', 9: 'Miriam', 10: 'Chana'}, 2014: {1: 'Olivia', 2: 'Esther', 3: 'Rachel', 4: 'Leah', 5: 'Emma', 6: 'Chaya', 7: 'Sarah', 8: 'Sophia', 9: 'Ava', 10: 'Miriam'}}"
   ]
  },
  {
   "cell_type": "code",
   "execution_count": 8,
   "metadata": {},
   "outputs": [
    {
     "name": "stdout",
     "output_type": "stream",
     "text": [
      "{2013: {1: 'Olivia', 2: 'Emma', 3: 'Esther', 4: 'Sophia', 5: 'Sarah', 6: 'Leah', 7: 'Rachel', 8: 'Chaya', 9: 'Miriam', 10: 'Chana'}, 2014: {1: 'Olivia', 2: 'Esther', 3: 'Rachel', 4: 'Leah', 5: 'Emma', 6: 'Chaya', 7: 'Sarah', 8: 'Sophia', 9: 'Ava', 10: 'Miriam'}}\n"
     ]
    }
   ],
   "source": [
    "# Remove 2011 from female_names and store it: female_names_2011\n",
    "female_names_2011 = female_names.pop(2011)\n",
    "\n",
    "# Safely remove 2015 from female_names with an empty dictionary as the default: female_names_2015\n",
    "female_names_2015 = female_names.pop(2015, {})\n",
    "\n",
    "# Delete 2012 from female_names\n",
    "del(female_names[2012])\n",
    "\n",
    "# Print female_names\n",
    "print(female_names)"
   ]
  },
  {
   "cell_type": "markdown",
   "metadata": {},
   "source": [
    "# Pythonically using dictionaries"
   ]
  },
  {
   "cell_type": "markdown",
   "metadata": {},
   "source": [
    "1. Iterate over baby_names[2014], unpacking it into rank and name.\n",
    "2. Print each rank and name.\n",
    "3. Repeat the process for baby_names[2012]."
   ]
  },
  {
   "cell_type": "code",
   "execution_count": 10,
   "metadata": {},
   "outputs": [
    {
     "name": "stdout",
     "output_type": "stream",
     "text": [
      "1 Joseph\n",
      "2 David\n",
      "3 Michael\n",
      "4 Moshe\n",
      "5 Jacob\n",
      "6 Benjamin\n",
      "7 Alexander\n",
      "8 Daniel\n",
      "9 Samuel\n",
      "10 Jack\n"
     ]
    }
   ],
   "source": [
    "baby_names = {2012: {}, 2013: {1: 'David', 2: 'Joseph', 3: 'Michael', 4: 'Moshe', 5: 'Daniel', 6: 'Benjamin', 7: 'James', 8: 'Jacob', 9: 'Jack', 10: 'Alexander'}, 2014: {1: 'Joseph', 2: 'David', 3: 'Michael', 4: 'Moshe', 5: 'Jacob', 6: 'Benjamin', 7: 'Alexander', 8: 'Daniel', 9: 'Samuel', 10: 'Jack'}}\n",
    "\n",
    "# Iterate over the 2014 nested dictionary\n",
    "for rank, name in baby_names[2014].items():\n",
    "    # Print rank and name\n",
    "    print(rank, name)\n",
    "    \n",
    "# Iterate over the 2012 nested dictionary\n",
    "for rank, name in baby_names[2012].items():\n",
    "    # Print rank and name\n",
    "    print(rank, name)"
   ]
  },
  {
   "cell_type": "markdown",
   "metadata": {},
   "source": [
    "# Checking dictionaries for data"
   ]
  },
  {
   "cell_type": "markdown",
   "metadata": {},
   "source": [
    "1. Check to see if 2011 is in the baby_names dictionary.\n",
    "2. Print 'Found 2011' if it is present.\n",
    "3. Check to see if 1 is in baby_names[2012].\n",
    "4. Print 'Found Rank 1 in 2012' if found and 'Rank 1 missing from 2012' if not found.\n",
    "5. Check to see if rank 5 is in baby_names[2013].\n",
    "6. Print 'Found Rank 5' if it is present."
   ]
  },
  {
   "cell_type": "code",
   "execution_count": 11,
   "metadata": {},
   "outputs": [
    {
     "name": "stdout",
     "output_type": "stream",
     "text": [
      "Rank 1 missing from 2012\n",
      "Found Rank 5\n"
     ]
    }
   ],
   "source": [
    "# Check to see if 2011 is in baby_names\n",
    "if '2011' in baby_names:\n",
    "    # Print 'Found 2011'\n",
    "    print('Found 2011')\n",
    "    \n",
    "# Check to see if rank 1 is in 2012\n",
    "if 1 in baby_names[2012]:\n",
    "    # Print 'Found Rank 1 in 2012' if found\n",
    "    print('Found Rank 1 in 2012')\n",
    "else:\n",
    "    # Print 'Rank 1 missing from 2012' if not found\n",
    "    print('Rank 1 missing from 2012')\n",
    "    \n",
    "# Check to see if Rank 5 is in 2013\n",
    "if 5 in baby_names[2013]:\n",
    "   # Print 'Found Rank 5'\n",
    "   print('Found Rank 5')"
   ]
  },
  {
   "cell_type": "markdown",
   "metadata": {},
   "source": [
    "# Working with CSV files\n"
   ]
  },
  {
   "cell_type": "markdown",
   "metadata": {},
   "source": [
    "# Reading from a file using CSV reader\n",
    "\n",
    "Python provides a wonderful module called csv to work with CSV files. You can pass the .reader() method of csv a Python file object and use it as you would any other iterable. To create a Python file object, you use the open() function, which accepts a file name and a mode. The mode is typically 'r' for read or 'w' for write.\n",
    "\n",
    "Though you won't use it for this exercise, often CSV files will have a header row with field names, and you will need to use slice notation such as [1:] to skip the header row.\n",
    "\n",
    "You'll now use the csv module to read the baby_names.csv file and fill the baby_names dictionary with data. This baby_names dictionary has already been created for you."
   ]
  },
  {
   "cell_type": "markdown",
   "metadata": {},
   "source": [
    "1. Import the python csv module.\n",
    "2. Create a Python file object in read mode for baby_names.csv called csvfile with the open function.\n",
    "3. Use the reader method from the csv module on the file object in a for loop. Inside the loop:\n",
    "4. Print each row and add the rank (the 6th element of row) as the key and name (the 4th element of row) as the value to the existing dictionary (baby_names).\n",
    "5. Print the keys of baby_names"
   ]
  },
  {
   "cell_type": "code",
   "execution_count": 20,
   "metadata": {},
   "outputs": [
    {
     "ename": "SyntaxError",
     "evalue": "(unicode error) 'unicodeescape' codec can't decode bytes in position 2-3: truncated \\UXXXXXXXX escape (<ipython-input-20-1c70e6f0bfcb>, line 5)",
     "output_type": "error",
     "traceback": [
      "\u001b[1;36m  File \u001b[1;32m\"<ipython-input-20-1c70e6f0bfcb>\"\u001b[1;36m, line \u001b[1;32m5\u001b[0m\n\u001b[1;33m    csvfile = open('C:\\Users\\13134\\Documents\\New_folder\\baby_names.csv', 'r')\u001b[0m\n\u001b[1;37m                  ^\u001b[0m\n\u001b[1;31mSyntaxError\u001b[0m\u001b[1;31m:\u001b[0m (unicode error) 'unicodeescape' codec can't decode bytes in position 2-3: truncated \\UXXXXXXXX escape\n"
     ]
    }
   ],
   "source": [
    "# Import the python CSV module\n",
    "import csv\n",
    "\n",
    "# Create a python file object in read mode for the baby_names.csv file: csvfile\n",
    "csvfile = open('C:\\Users\\13134\\Documents\\New_folder\\baby_names.csv', 'r')\n",
    "\n",
    "# Loop over a csv reader on the file object\n",
    "for row in csv.reader(csvfile):\n",
    "    # Print each row \n",
    "    print(row)\n",
    "    # Add the rank and name to the dictionary\n",
    "    baby_names[row[5]] = row[3]\n",
    "\n",
    "# Print the dictionary keys\n",
    "print(baby_names.keys())"
   ]
  },
  {
   "cell_type": "markdown",
   "metadata": {},
   "source": [
    "# Creating a dictionary from a file\n",
    "\n",
    "The csv module also provides a way to directly create a dictionary from a CSV file with the DictReader class. If the file has a header row, that row will automatically be used as the keys for the dictionary. However, if not, you can supply a list of keys to be used. Each row from the file is returned as a dictionary. Using DictReader can make it much easier to read your code and understand what data is being used, especially when compared to the numbered indexes you used in the prior exercise.\n",
    "\n",
    "Your job in this exercise is to create a dictionary directly from the data file using DictReader. NOTE: The misspellings are from the original data, and this is a very common issue. Again, the baby_names dictionary has already been created for you."
   ]
  },
  {
   "cell_type": "markdown",
   "metadata": {},
   "source": [
    "1. Import the Python csv module.\n",
    "2. Create a Python file object in read mode for the baby_names.csv called csvfile.\n",
    "3. Loop over a csv DictReader on csvfile. Inside the loop:Print each row. Add the 'RANK' of each row as the key and 'NAME' of each row as the value to the existing dictionary."
   ]
  },
  {
   "cell_type": "code",
   "execution_count": 21,
   "metadata": {},
   "outputs": [
    {
     "ename": "SyntaxError",
     "evalue": "(unicode error) 'unicodeescape' codec can't decode bytes in position 2-3: truncated \\UXXXXXXXX escape (<ipython-input-21-fa083bfea636>, line 5)",
     "output_type": "error",
     "traceback": [
      "\u001b[1;36m  File \u001b[1;32m\"<ipython-input-21-fa083bfea636>\"\u001b[1;36m, line \u001b[1;32m5\u001b[0m\n\u001b[1;33m    csvfile = open('C:\\Users\\13134\\Documents\\New_folder\\baby_names.csv', 'r')\u001b[0m\n\u001b[1;37m                  ^\u001b[0m\n\u001b[1;31mSyntaxError\u001b[0m\u001b[1;31m:\u001b[0m (unicode error) 'unicodeescape' codec can't decode bytes in position 2-3: truncated \\UXXXXXXXX escape\n"
     ]
    }
   ],
   "source": [
    "# Import the python CSV module\n",
    "import csv\n",
    "\n",
    "# Create a python file object in read mode for the `baby_names.csv` file: csvfile\n",
    "csvfile = open('C:\\Users\\13134\\Documents\\New_folder\\baby_names.csv', 'r')\n",
    "\n",
    "# Loop over a DictReader on the file\n",
    "for row in csv.DictReader(csvfile):\n",
    "    # Print each row \n",
    "    print(row)\n",
    "    # Add the rank and name to the dictionary: baby_names\n",
    "    baby_names[row['RANK']] = row['NAME']\n",
    "\n",
    "# Print the dictionary keys\n",
    "print(baby_names.keys())"
   ]
  },
  {
   "cell_type": "code",
   "execution_count": null,
   "metadata": {},
   "outputs": [],
   "source": []
  }
 ],
 "metadata": {
  "kernelspec": {
   "display_name": "Python 3",
   "language": "python",
   "name": "python3"
  },
  "language_info": {
   "codemirror_mode": {
    "name": "ipython",
    "version": 3
   },
   "file_extension": ".py",
   "mimetype": "text/x-python",
   "name": "python",
   "nbconvert_exporter": "python",
   "pygments_lexer": "ipython3",
   "version": "3.7.6"
  }
 },
 "nbformat": 4,
 "nbformat_minor": 4
}
