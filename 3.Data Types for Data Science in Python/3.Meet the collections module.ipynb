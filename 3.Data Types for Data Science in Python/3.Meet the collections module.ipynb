{
 "cells": [
  {
   "cell_type": "markdown",
   "metadata": {},
   "source": [
    "# Counting made easy"
   ]
  },
  {
   "cell_type": "markdown",
   "metadata": {},
   "source": [
    "# Using Counter on lists\n",
    "Counter is a powerful tool for counting, validating, and learning more about the elements within a dataset that is found in the collections module. You pass an iterable (list, set, tuple) or a dictionary to the Counter. You can also use the Counter object similarly to a dictionary with key/value assignment, for example counter[key] = value.\n",
    "\n",
    "A common usage for Counter is checking data for consistency prior to using it, so let's do just that. In this exercise, you'll be using data from the Chicago Transit Authority on ridership."
   ]
  },
  {
   "cell_type": "markdown",
   "metadata": {},
   "source": [
    "1. Import the Counter object from collections.\n",
    "2. Print the first ten items from the stations list.\n",
    "3. Create a Counter of the stations list called station_count.\n",
    "4. Print the station_count."
   ]
  },
  {
   "cell_type": "code",
   "execution_count": 1,
   "metadata": {},
   "outputs": [],
   "source": [
    "# Import the Counter object\n",
    "import numpy as np\n",
    "import pandas as pd\n",
    "from collections import Counter"
   ]
  },
  {
   "cell_type": "code",
   "execution_count": 2,
   "metadata": {},
   "outputs": [
    {
     "data": {
      "text/html": [
       "<div>\n",
       "<style scoped>\n",
       "    .dataframe tbody tr th:only-of-type {\n",
       "        vertical-align: middle;\n",
       "    }\n",
       "\n",
       "    .dataframe tbody tr th {\n",
       "        vertical-align: top;\n",
       "    }\n",
       "\n",
       "    .dataframe thead th {\n",
       "        text-align: right;\n",
       "    }\n",
       "</style>\n",
       "<table border=\"1\" class=\"dataframe\">\n",
       "  <thead>\n",
       "    <tr style=\"text-align: right;\">\n",
       "      <th></th>\n",
       "      <th>stationname</th>\n",
       "      <th>date</th>\n",
       "      <th>daytype</th>\n",
       "      <th>rides</th>\n",
       "    </tr>\n",
       "    <tr>\n",
       "      <th>station_id</th>\n",
       "      <th></th>\n",
       "      <th></th>\n",
       "      <th></th>\n",
       "      <th></th>\n",
       "    </tr>\n",
       "  </thead>\n",
       "  <tbody>\n",
       "    <tr>\n",
       "      <th>40010</th>\n",
       "      <td>Austin-Forest Park</td>\n",
       "      <td>01/01/2015</td>\n",
       "      <td>SUNDAY/HOLIDAY</td>\n",
       "      <td>587</td>\n",
       "    </tr>\n",
       "    <tr>\n",
       "      <th>40010</th>\n",
       "      <td>Austin-Forest Park</td>\n",
       "      <td>01/02/2015</td>\n",
       "      <td>WEEKDAY</td>\n",
       "      <td>1386</td>\n",
       "    </tr>\n",
       "    <tr>\n",
       "      <th>40010</th>\n",
       "      <td>Austin-Forest Park</td>\n",
       "      <td>01/03/2015</td>\n",
       "      <td>SATURDAY</td>\n",
       "      <td>785</td>\n",
       "    </tr>\n",
       "    <tr>\n",
       "      <th>40010</th>\n",
       "      <td>Austin-Forest Park</td>\n",
       "      <td>01/04/2015</td>\n",
       "      <td>SUNDAY/HOLIDAY</td>\n",
       "      <td>625</td>\n",
       "    </tr>\n",
       "    <tr>\n",
       "      <th>40010</th>\n",
       "      <td>Austin-Forest Park</td>\n",
       "      <td>01/05/2015</td>\n",
       "      <td>WEEKDAY</td>\n",
       "      <td>1752</td>\n",
       "    </tr>\n",
       "    <tr>\n",
       "      <th>...</th>\n",
       "      <td>...</td>\n",
       "      <td>...</td>\n",
       "      <td>...</td>\n",
       "      <td>...</td>\n",
       "    </tr>\n",
       "    <tr>\n",
       "      <th>41690</th>\n",
       "      <td>Cermak-McCormick Place</td>\n",
       "      <td>11/26/2016</td>\n",
       "      <td>SATURDAY</td>\n",
       "      <td>767</td>\n",
       "    </tr>\n",
       "    <tr>\n",
       "      <th>41690</th>\n",
       "      <td>Cermak-McCormick Place</td>\n",
       "      <td>11/27/2016</td>\n",
       "      <td>SUNDAY/HOLIDAY</td>\n",
       "      <td>688</td>\n",
       "    </tr>\n",
       "    <tr>\n",
       "      <th>41690</th>\n",
       "      <td>Cermak-McCormick Place</td>\n",
       "      <td>11/28/2016</td>\n",
       "      <td>WEEKDAY</td>\n",
       "      <td>1406</td>\n",
       "    </tr>\n",
       "    <tr>\n",
       "      <th>41690</th>\n",
       "      <td>Cermak-McCormick Place</td>\n",
       "      <td>11/29/2016</td>\n",
       "      <td>WEEKDAY</td>\n",
       "      <td>1545</td>\n",
       "    </tr>\n",
       "    <tr>\n",
       "      <th>41690</th>\n",
       "      <td>Cermak-McCormick Place</td>\n",
       "      <td>11/30/2016</td>\n",
       "      <td>WEEKDAY</td>\n",
       "      <td>1499</td>\n",
       "    </tr>\n",
       "  </tbody>\n",
       "</table>\n",
       "<p>100800 rows × 4 columns</p>\n",
       "</div>"
      ],
      "text/plain": [
       "                       stationname        date         daytype  rides\n",
       "station_id                                                           \n",
       "40010           Austin-Forest Park  01/01/2015  SUNDAY/HOLIDAY    587\n",
       "40010           Austin-Forest Park  01/02/2015         WEEKDAY   1386\n",
       "40010           Austin-Forest Park  01/03/2015        SATURDAY    785\n",
       "40010           Austin-Forest Park  01/04/2015  SUNDAY/HOLIDAY    625\n",
       "40010           Austin-Forest Park  01/05/2015         WEEKDAY   1752\n",
       "...                            ...         ...             ...    ...\n",
       "41690       Cermak-McCormick Place  11/26/2016        SATURDAY    767\n",
       "41690       Cermak-McCormick Place  11/27/2016  SUNDAY/HOLIDAY    688\n",
       "41690       Cermak-McCormick Place  11/28/2016         WEEKDAY   1406\n",
       "41690       Cermak-McCormick Place  11/29/2016         WEEKDAY   1545\n",
       "41690       Cermak-McCormick Place  11/30/2016         WEEKDAY   1499\n",
       "\n",
       "[100800 rows x 4 columns]"
      ]
     },
     "execution_count": 2,
     "metadata": {},
     "output_type": "execute_result"
    }
   ],
   "source": [
    "Stations = r'F:\\Data Analysis\\Springboard\\Data Science Career Track\\3.Data Types for Data Science in Python\\Datasets\\cta_daily_station_totals.csv'\n",
    "\n",
    "stations = pd.read_csv(Stations, index_col = 0)\n",
    "stations"
   ]
  },
  {
   "cell_type": "code",
   "execution_count": 3,
   "metadata": {},
   "outputs": [
    {
     "name": "stdout",
     "output_type": "stream",
     "text": [
      "                   stationname        date         daytype  rides\n",
      "station_id                                                       \n",
      "40010       Austin-Forest Park  01/01/2015  SUNDAY/HOLIDAY    587\n",
      "40010       Austin-Forest Park  01/02/2015         WEEKDAY   1386\n",
      "40010       Austin-Forest Park  01/03/2015        SATURDAY    785\n",
      "40010       Austin-Forest Park  01/04/2015  SUNDAY/HOLIDAY    625\n",
      "40010       Austin-Forest Park  01/05/2015         WEEKDAY   1752\n",
      "40010       Austin-Forest Park  01/06/2015         WEEKDAY   1777\n",
      "40010       Austin-Forest Park  01/07/2015         WEEKDAY   1269\n",
      "40010       Austin-Forest Park  01/08/2015         WEEKDAY   1435\n",
      "40010       Austin-Forest Park  01/09/2015         WEEKDAY   1631\n",
      "40010       Austin-Forest Park  01/10/2015        SATURDAY    771\n"
     ]
    }
   ],
   "source": [
    "# Print the first ten items from the stations list\n",
    "print(stations[:10])"
   ]
  },
  {
   "cell_type": "code",
   "execution_count": 4,
   "metadata": {},
   "outputs": [
    {
     "name": "stdout",
     "output_type": "stream",
     "text": [
      "Counter({'stationname': 1, 'date': 1, 'daytype': 1, 'rides': 1})\n"
     ]
    }
   ],
   "source": [
    "# Create a Counter of the stations list: station_count\n",
    "station_count = Counter(stations)\n",
    "\n",
    "# Print the station_count\n",
    "print(station_count)"
   ]
  },
  {
   "cell_type": "markdown",
   "metadata": {},
   "source": [
    "# Finding most common elements\n",
    "Another powerful usage of Counter is finding the most common elements in a list. This can be done with the .most_common() method."
   ]
  },
  {
   "cell_type": "markdown",
   "metadata": {},
   "source": [
    "1. Import the Counter object from collections.\n",
    "2. Create a Counter of the stations list called station_count.\n",
    "3. Print the 5 most common elements."
   ]
  },
  {
   "cell_type": "code",
   "execution_count": 5,
   "metadata": {},
   "outputs": [
    {
     "data": {
      "text/plain": [
       "[('stationname', 1), ('date', 1), ('daytype', 1), ('rides', 1)]"
      ]
     },
     "execution_count": 5,
     "metadata": {},
     "output_type": "execute_result"
    }
   ],
   "source": [
    " \n",
    "# Create a Counter of the stations list: station_count\n",
    "station_count = Counter(stations)\n",
    "\n",
    "# Find the 5 most common elements\n",
    "station_count.most_common(5)"
   ]
  },
  {
   "cell_type": "markdown",
   "metadata": {},
   "source": [
    "# Dictionaries of unknown structure - Defaultdict\n"
   ]
  },
  {
   "cell_type": "markdown",
   "metadata": {},
   "source": [
    "# Creating dictionaries of an unknown structure\n",
    "Occasionally, you'll need a structure to hold nested data, and you may not be certain that the keys will all actually exist. This can be an issue if you're trying to append items to a list for that key. You might remember the NYC data that we explored in the video. In order to solve the problem with a regular dictionary, you'll need to test that the key exists in the dictionary, and if not, add it with an empty list."
   ]
  },
  {
   "cell_type": "markdown",
   "metadata": {},
   "source": [
    "1. Create an empty dictionary called ridership.\n",
    "2. Iterate over entries, unpacking it into the variables date, stop, and riders.\n",
    "3. Check to see if the date already exists in the ridership dictionary. If it does not exist, create an empty list for the date key.\n",
    "4. Append a tuple consisting of stop and riders to the date key of the ridership dictionary.\n",
    "5. Print the ridership for '03/09/2016'."
   ]
  },
  {
   "cell_type": "code",
   "execution_count": 6,
   "metadata": {},
   "outputs": [
    {
     "ename": "NameError",
     "evalue": "name 'entries' is not defined",
     "output_type": "error",
     "traceback": [
      "\u001b[1;31m---------------------------------------------------------------------------\u001b[0m",
      "\u001b[1;31mNameError\u001b[0m                                 Traceback (most recent call last)",
      "\u001b[1;32m<ipython-input-6-1d4122eaeee9>\u001b[0m in \u001b[0;36m<module>\u001b[1;34m\u001b[0m\n\u001b[0;32m      5\u001b[0m \u001b[1;33m\u001b[0m\u001b[0m\n\u001b[0;32m      6\u001b[0m \u001b[1;31m# Iterate over the entries\u001b[0m\u001b[1;33m\u001b[0m\u001b[1;33m\u001b[0m\u001b[1;33m\u001b[0m\u001b[0m\n\u001b[1;32m----> 7\u001b[1;33m \u001b[1;32mfor\u001b[0m \u001b[0mdate\u001b[0m\u001b[1;33m,\u001b[0m \u001b[0mstop\u001b[0m\u001b[1;33m,\u001b[0m \u001b[0mriders\u001b[0m \u001b[1;32min\u001b[0m \u001b[0mentries\u001b[0m\u001b[1;33m:\u001b[0m\u001b[1;33m\u001b[0m\u001b[1;33m\u001b[0m\u001b[0m\n\u001b[0m\u001b[0;32m      8\u001b[0m     \u001b[1;31m# Check to see if date is already in the ridership dictionary\u001b[0m\u001b[1;33m\u001b[0m\u001b[1;33m\u001b[0m\u001b[1;33m\u001b[0m\u001b[0m\n\u001b[0;32m      9\u001b[0m     \u001b[1;32mif\u001b[0m \u001b[0mdate\u001b[0m \u001b[1;32mnot\u001b[0m \u001b[1;32min\u001b[0m \u001b[0mridership\u001b[0m\u001b[1;33m:\u001b[0m\u001b[1;33m\u001b[0m\u001b[1;33m\u001b[0m\u001b[0m\n",
      "\u001b[1;31mNameError\u001b[0m: name 'entries' is not defined"
     ]
    }
   ],
   "source": [
    "#note, entries data not available so it will result in error after running the codes below\n",
    "\n",
    "# Create an empty dictionary: ridership\n",
    "ridership = {}\n",
    "\n",
    "# Iterate over the entries\n",
    "for date, stop, riders in entries:\n",
    "    # Check to see if date is already in the ridership dictionary\n",
    "    if date not in ridership:\n",
    "        # Create an empty list for any missing date\n",
    "        ridership[date] = []\n",
    "    # Append the stop and riders as a tuple to the date keys list\n",
    "    ridership[date].append((stop, riders))\n",
    "    \n",
    "# Print the ridership for '03/09/2016'\n",
    "print(ridership['03/09/2016'])"
   ]
  },
  {
   "cell_type": "markdown",
   "metadata": {},
   "source": [
    "# Safely appending to a key's value list\n",
    "\n",
    "Often when working with dictionaries, you will need to initialize a data type before you can use it. A prime example of this is a list, which has to be initialized on each key before you can append to that list.\n",
    "\n",
    "A defaultdict allows you to define what each uninitialized key will contain. When establishing a defaultdict, you pass it the type you want it to be, such as a list, tuple, set, int, string, dictionary or any other valid type object."
   ]
  },
  {
   "cell_type": "markdown",
   "metadata": {},
   "source": [
    "1. Import defaultdict from collections.\n",
    "2. Create a defaultdict with a default type of list called ridership.\n",
    "3. Iterate over the list entries, unpacking it into the variables date, stop, and riders, exactly as you did in the previous exercise.\n",
    "4. Use stop as the key of the ridership dictionary and append riders to its value.\n",
    "5. Print the first 10 items of the ridership dictionary. You can use the .items() method for this. Remember, you have to convert ridership.items() to a list before slicing."
   ]
  },
  {
   "cell_type": "code",
   "execution_count": 7,
   "metadata": {},
   "outputs": [
    {
     "ename": "NameError",
     "evalue": "name 'entries' is not defined",
     "output_type": "error",
     "traceback": [
      "\u001b[1;31m---------------------------------------------------------------------------\u001b[0m",
      "\u001b[1;31mNameError\u001b[0m                                 Traceback (most recent call last)",
      "\u001b[1;32m<ipython-input-7-ddd73e3d549a>\u001b[0m in \u001b[0;36m<module>\u001b[1;34m\u001b[0m\n\u001b[0;32m      7\u001b[0m \u001b[1;33m\u001b[0m\u001b[0m\n\u001b[0;32m      8\u001b[0m \u001b[1;31m# Iterate over the entries\u001b[0m\u001b[1;33m\u001b[0m\u001b[1;33m\u001b[0m\u001b[1;33m\u001b[0m\u001b[0m\n\u001b[1;32m----> 9\u001b[1;33m \u001b[1;32mfor\u001b[0m \u001b[0mdate\u001b[0m\u001b[1;33m,\u001b[0m \u001b[0mstop\u001b[0m\u001b[1;33m,\u001b[0m \u001b[0mriders\u001b[0m \u001b[1;32min\u001b[0m \u001b[0mentries\u001b[0m\u001b[1;33m:\u001b[0m\u001b[1;33m\u001b[0m\u001b[1;33m\u001b[0m\u001b[0m\n\u001b[0m\u001b[0;32m     10\u001b[0m     \u001b[1;31m# Use the stop as the key of ridership and append the riders to its value\u001b[0m\u001b[1;33m\u001b[0m\u001b[1;33m\u001b[0m\u001b[1;33m\u001b[0m\u001b[0m\n\u001b[0;32m     11\u001b[0m     \u001b[0mridership\u001b[0m\u001b[1;33m[\u001b[0m\u001b[0mstop\u001b[0m\u001b[1;33m]\u001b[0m\u001b[1;33m.\u001b[0m\u001b[0mappend\u001b[0m\u001b[1;33m(\u001b[0m\u001b[0mriders\u001b[0m\u001b[1;33m)\u001b[0m\u001b[1;33m\u001b[0m\u001b[1;33m\u001b[0m\u001b[0m\n",
      "\u001b[1;31mNameError\u001b[0m: name 'entries' is not defined"
     ]
    }
   ],
   "source": [
    "#note, entries data not available so it will result in error after running the codes below\n",
    "# Import defaultdict\n",
    "from collections import defaultdict\n",
    "\n",
    "# Create a defaultdict with a default type of list: ridership\n",
    "ridership = defaultdict(list)\n",
    "\n",
    "# Iterate over the entries\n",
    "for date, stop, riders in entries:\n",
    "    # Use the stop as the key of ridership and append the riders to its value\n",
    "    ridership[stop].append(riders)\n",
    "    \n",
    "# Print the first 10 items of the ridership dictionary\n",
    "print(list(ridership.items())[:10])"
   ]
  },
  {
   "cell_type": "markdown",
   "metadata": {},
   "source": [
    "# Maintaining Dictionary Order with OrderedDict\n"
   ]
  },
  {
   "cell_type": "markdown",
   "metadata": {},
   "source": [
    "# Working with OrderedDictionaries\n",
    "Recently in Python 3.6, dictionaries were made to maintain the order in which the keys were inserted; however, in all versions prior to that you need to use an OrderedDict to maintain insertion order."
   ]
  },
  {
   "cell_type": "markdown",
   "metadata": {},
   "source": [
    "1. Import OrderedDict from collections.\n",
    "2. Create an OrderedDict called ridership_date.\n",
    "3. Iterate over the list entries, unpacking it into date and riders.\n",
    "4. If a key does not exist in ridership_date for the date, set it equal to 0 (if only you could use defaultdict here!)\n",
    "5. Add riders to the date key of ridership_date.\n",
    "6. Print the first 31 records. Remember to convert the items into a list."
   ]
  },
  {
   "cell_type": "code",
   "execution_count": 8,
   "metadata": {},
   "outputs": [
    {
     "ename": "NameError",
     "evalue": "name 'entries' is not defined",
     "output_type": "error",
     "traceback": [
      "\u001b[1;31m---------------------------------------------------------------------------\u001b[0m",
      "\u001b[1;31mNameError\u001b[0m                                 Traceback (most recent call last)",
      "\u001b[1;32m<ipython-input-8-a1227ac1d99b>\u001b[0m in \u001b[0;36m<module>\u001b[1;34m\u001b[0m\n\u001b[0;32m      9\u001b[0m \u001b[1;33m\u001b[0m\u001b[0m\n\u001b[0;32m     10\u001b[0m \u001b[1;31m# Iterate over the entries\u001b[0m\u001b[1;33m\u001b[0m\u001b[1;33m\u001b[0m\u001b[1;33m\u001b[0m\u001b[0m\n\u001b[1;32m---> 11\u001b[1;33m \u001b[1;32mfor\u001b[0m \u001b[0mdate\u001b[0m\u001b[1;33m,\u001b[0m \u001b[0mriders\u001b[0m \u001b[1;32min\u001b[0m \u001b[0mentries\u001b[0m\u001b[1;33m:\u001b[0m\u001b[1;33m\u001b[0m\u001b[1;33m\u001b[0m\u001b[0m\n\u001b[0m\u001b[0;32m     12\u001b[0m     \u001b[1;31m# If a key does not exist in ridership_date, set it to 0\u001b[0m\u001b[1;33m\u001b[0m\u001b[1;33m\u001b[0m\u001b[1;33m\u001b[0m\u001b[0m\n\u001b[0;32m     13\u001b[0m     \u001b[1;32mif\u001b[0m  \u001b[0mdate\u001b[0m \u001b[1;32mnot\u001b[0m \u001b[1;32min\u001b[0m \u001b[0mridership_date\u001b[0m\u001b[1;33m:\u001b[0m\u001b[1;33m\u001b[0m\u001b[1;33m\u001b[0m\u001b[0m\n",
      "\u001b[1;31mNameError\u001b[0m: name 'entries' is not defined"
     ]
    }
   ],
   "source": [
    "#note, entries data not available so it will result in error after running the codes below\n",
    "\n",
    "\n",
    "# Import OrderedDict from collections\n",
    "from collections import OrderedDict\n",
    "\n",
    "# Create an OrderedDict called: ridership_date\n",
    "ridership_date = OrderedDict()\n",
    "\n",
    "# Iterate over the entries\n",
    "for date, riders in entries:\n",
    "    # If a key does not exist in ridership_date, set it to 0\n",
    "    if  date not in ridership_date:\n",
    "        ridership_date[date] = 0\n",
    "        \n",
    "    # Add riders to the date key in ridership_date\n",
    "    ridership_date[date] += riders\n",
    "    \n",
    "# Print the first 31 records\n",
    "print(list(ridership_date.items())[:31])"
   ]
  },
  {
   "cell_type": "markdown",
   "metadata": {},
   "source": [
    "# Powerful Ordered popping\n",
    "\n",
    "Where OrderedDicts really shine is when you need to access the data in the dictionary in the order you added it. OrderedDict has a .popitem() method that will return items in reverse of which they were inserted. You can also pass .popitem() the last=False keyword argument and go through the items in the order of how they were added.\n",
    "\n",
    "Here, you'll use the ridership_date OrderedDict you created in the previous exercise."
   ]
  },
  {
   "cell_type": "markdown",
   "metadata": {},
   "source": [
    "1. Print the first key in ridership_date (Remember to make keys a list before slicing).\n",
    "2. Pop the first item from ridership_date and print it.\n",
    "3. Print the last key in ridership_date.\n",
    "4. Pop the last item from ridership_date and print it."
   ]
  },
  {
   "cell_type": "code",
   "execution_count": 9,
   "metadata": {},
   "outputs": [
    {
     "ename": "IndexError",
     "evalue": "list index out of range",
     "output_type": "error",
     "traceback": [
      "\u001b[1;31m---------------------------------------------------------------------------\u001b[0m",
      "\u001b[1;31mIndexError\u001b[0m                                Traceback (most recent call last)",
      "\u001b[1;32m<ipython-input-9-efb5da1abe05>\u001b[0m in \u001b[0;36m<module>\u001b[1;34m\u001b[0m\n\u001b[0;32m      2\u001b[0m \u001b[1;33m\u001b[0m\u001b[0m\n\u001b[0;32m      3\u001b[0m \u001b[1;31m# Print the first key in ridership_date\u001b[0m\u001b[1;33m\u001b[0m\u001b[1;33m\u001b[0m\u001b[1;33m\u001b[0m\u001b[0m\n\u001b[1;32m----> 4\u001b[1;33m \u001b[0mprint\u001b[0m\u001b[1;33m(\u001b[0m\u001b[0mlist\u001b[0m\u001b[1;33m(\u001b[0m\u001b[0mridership_date\u001b[0m\u001b[1;33m.\u001b[0m\u001b[0mkeys\u001b[0m\u001b[1;33m(\u001b[0m\u001b[1;33m)\u001b[0m\u001b[1;33m)\u001b[0m\u001b[1;33m[\u001b[0m\u001b[1;36m0\u001b[0m\u001b[1;33m]\u001b[0m\u001b[1;33m)\u001b[0m\u001b[1;33m\u001b[0m\u001b[1;33m\u001b[0m\u001b[0m\n\u001b[0m\u001b[0;32m      5\u001b[0m \u001b[1;33m\u001b[0m\u001b[0m\n\u001b[0;32m      6\u001b[0m \u001b[1;31m# Pop the first item from ridership_date and print it\u001b[0m\u001b[1;33m\u001b[0m\u001b[1;33m\u001b[0m\u001b[1;33m\u001b[0m\u001b[0m\n",
      "\u001b[1;31mIndexError\u001b[0m: list index out of range"
     ]
    }
   ],
   "source": [
    "#note, entries data not available so it will result in error after running the codes below\n",
    "\n",
    "# Print the first key in ridership_date\n",
    "print(list(ridership_date.keys())[0])\n",
    "\n",
    "# Pop the first item from ridership_date and print it\n",
    "print(ridership_date.popitem(last=False))\n",
    "\n",
    "# Print the last key in ridership_date\n",
    "print(list(ridership_date.keys())[-1])\n",
    "\n",
    "# Pop the last item from ridership_date and print it\n",
    "print(ridership_date.popitem())"
   ]
  },
  {
   "cell_type": "markdown",
   "metadata": {},
   "source": [
    "# What do you mean I don't have any class? Namedtuple\n"
   ]
  },
  {
   "cell_type": "markdown",
   "metadata": {},
   "source": [
    "# Creating namedtuples for storing data\n",
    "Often times when working with data, you will use a dictionary just so you can use key names to make reading the code and accessing the data easier to understand. Python has another container called a namedtuple that is a tuple, but has names for each position of the tuple. You create one by passing a name for the tuple type and a list of field names."
   ]
  },
  {
   "cell_type": "markdown",
   "metadata": {},
   "source": [
    "1. Import namedtuple from collections.\n",
    "2. Create a namedtuple called DateDetails with a type name of DateDetails and fields of 'date', 'stop', and 'riders'.\n",
    "3. Create a list called labeled_entries.\n",
    "4. Iterate over the entries list, unpacking it into date, stop, and riders.\n",
    "5. Create a new DateDetails namedtuple instance for each entry and append it to labeled_entries.\n",
    "6. Print the first 5 items in labeled_entries. This has been done for you, so hit 'Submit Answer' to see the result!"
   ]
  },
  {
   "cell_type": "code",
   "execution_count": 10,
   "metadata": {},
   "outputs": [
    {
     "ename": "SyntaxError",
     "evalue": "invalid syntax (<ipython-input-10-d377eb239785>, line 1)",
     "output_type": "error",
     "traceback": [
      "\u001b[1;36m  File \u001b[1;32m\"<ipython-input-10-d377eb239785>\"\u001b[1;36m, line \u001b[1;32m1\u001b[0m\n\u001b[1;33m    Import namedtuple from collections\u001b[0m\n\u001b[1;37m                    ^\u001b[0m\n\u001b[1;31mSyntaxError\u001b[0m\u001b[1;31m:\u001b[0m invalid syntax\n"
     ]
    }
   ],
   "source": [
    " Import namedtuple from collections\n",
    "from collections import namedtuple\n",
    "\n",
    "# Create the namedtuple: DateDetails\n",
    "DateDetails = namedtuple('DateDetails', ['date', 'stop', 'riders'])\n",
    "\n",
    "# Create the empty list: labeled_entries\n",
    "labeled_entries = []\n",
    "\n",
    "# Iterate over the entries list\n",
    "for date, stop, riders in entries:\n",
    "    # Append a new DateDetails namedtuple instance for each entry to labeled_entries\n",
    "    labeled_entries.append(DateDetails(date, stop, riders))\n",
    "    \n",
    "# Print the first 5 items in labeled_entries\n",
    "print(labeled_entries[:5])"
   ]
  },
  {
   "cell_type": "markdown",
   "metadata": {},
   "source": [
    "# Leveraging attributes on namedtuples\n",
    "\n",
    "Once you have a namedtuple, you can write more expressive code that is easier to understand. Remember, you can access the elements in the tuple by their name as an attribute. For example, you can access the date of the namedtuples in the previous exercise using the .date attribute."
   ]
  },
  {
   "cell_type": "markdown",
   "metadata": {},
   "source": [
    "1. Iterate over the first twenty items in the labeled_entries list:\n",
    "2. Print each item's stop.\n",
    "3. Print each item's date.\n",
    "4. Print each item's riders.\n"
   ]
  },
  {
   "cell_type": "code",
   "execution_count": 11,
   "metadata": {},
   "outputs": [
    {
     "ename": "NameError",
     "evalue": "name 'labeled_entries' is not defined",
     "output_type": "error",
     "traceback": [
      "\u001b[1;31m---------------------------------------------------------------------------\u001b[0m",
      "\u001b[1;31mNameError\u001b[0m                                 Traceback (most recent call last)",
      "\u001b[1;32m<ipython-input-11-57c58978f547>\u001b[0m in \u001b[0;36m<module>\u001b[1;34m\u001b[0m\n\u001b[0;32m      1\u001b[0m \u001b[1;31m# Iterate over the first twenty items in labeled_entries\u001b[0m\u001b[1;33m\u001b[0m\u001b[1;33m\u001b[0m\u001b[1;33m\u001b[0m\u001b[0m\n\u001b[1;32m----> 2\u001b[1;33m \u001b[1;32mfor\u001b[0m \u001b[0mitem\u001b[0m \u001b[1;32min\u001b[0m \u001b[0mlabeled_entries\u001b[0m\u001b[1;33m[\u001b[0m\u001b[1;33m:\u001b[0m\u001b[1;36m20\u001b[0m\u001b[1;33m]\u001b[0m\u001b[1;33m:\u001b[0m\u001b[1;33m\u001b[0m\u001b[1;33m\u001b[0m\u001b[0m\n\u001b[0m\u001b[0;32m      3\u001b[0m     \u001b[1;31m# Print each item's stop\u001b[0m\u001b[1;33m\u001b[0m\u001b[1;33m\u001b[0m\u001b[1;33m\u001b[0m\u001b[0m\n\u001b[0;32m      4\u001b[0m     \u001b[0mprint\u001b[0m\u001b[1;33m(\u001b[0m\u001b[0mitem\u001b[0m\u001b[1;33m.\u001b[0m\u001b[0mstop\u001b[0m\u001b[1;33m)\u001b[0m\u001b[1;33m\u001b[0m\u001b[1;33m\u001b[0m\u001b[0m\n\u001b[0;32m      5\u001b[0m \u001b[1;33m\u001b[0m\u001b[0m\n",
      "\u001b[1;31mNameError\u001b[0m: name 'labeled_entries' is not defined"
     ]
    }
   ],
   "source": [
    "# Iterate over the first twenty items in labeled_entries\n",
    "for item in labeled_entries[:20]:\n",
    "    # Print each item's stop\n",
    "    print(item.stop)\n",
    "\n",
    "    # Print each item's date\n",
    "    print(item.date)\n",
    "\n",
    "    # Print each item's riders\n",
    "    print(item.riders)"
   ]
  },
  {
   "cell_type": "code",
   "execution_count": null,
   "metadata": {},
   "outputs": [],
   "source": []
  }
 ],
 "metadata": {
  "kernelspec": {
   "display_name": "Python 3",
   "language": "python",
   "name": "python3"
  },
  "language_info": {
   "codemirror_mode": {
    "name": "ipython",
    "version": 3
   },
   "file_extension": ".py",
   "mimetype": "text/x-python",
   "name": "python",
   "nbconvert_exporter": "python",
   "pygments_lexer": "ipython3",
   "version": "3.7.6"
  }
 },
 "nbformat": 4,
 "nbformat_minor": 4
}
